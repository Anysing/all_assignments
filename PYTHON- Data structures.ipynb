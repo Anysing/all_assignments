{
 "cells": [
  {
   "cell_type": "markdown",
   "id": "25a21fec-bf52-437c-a95d-f4b012ba543f",
   "metadata": {},
   "source": [
    "Q1. How do you comment code in Python? What are the different types of comments?"
   ]
  },
  {
   "cell_type": "markdown",
   "id": "b80eb051-1daa-43fe-993c-566db628e463",
   "metadata": {},
   "source": [
    "A comment is used to tell the fuctionality or property of an element so that anyone can understand what is happening in a particular line\n",
    "there are three types of comments\n",
    "*single line comment\n",
    "*multi line comment\n",
    "*docstring comment\n",
    "SINGLE LINE COMMENT:- We can write a single line comment by using '#' symbols\n",
    "for example:- #this is a single line comment\n",
    "MULTI LINE COMMENT:- We can write a multi line comment by using '#' symbols in every line or by using (\"\"\") symbols\n",
    "for example:- \"\"\"lksamvoin miw mlkmmi nmokomoena mlkmivar mmnamammmvm pmpm mp\n",
    "koanpmmrpmp pmpmwmvm papmvpmrpm pmvomao pom pomo mmapm\"\"\"\n",
    "DOCSTRING COMMENT:- it is used for commenting on modules,methods,classes,objects.they are written in the first line after defining a module,methods etc. using three quotation marks (''')\n",
    "for example:- '''ao maopm mi ma mpmeirrim imoiamo moim imima omopma'''\n",
    "                                                                                                "
   ]
  },
  {
   "cell_type": "markdown",
   "id": "6e52cf51-e0dd-4a2e-b6ff-6ca2125319ed",
   "metadata": {},
   "source": [
    "Q2. What are variables in Python? How do you declare and assign values to variables?"
   ]
  },
  {
   "cell_type": "code",
   "execution_count": null,
   "id": "ee0bc9da-bc5a-4981-8a74-931781a63cd3",
   "metadata": {},
   "outputs": [],
   "source": [
    "\"\"\"a variables is a type of container that stores some values it can be anything \n",
    "a variable can be of any type like integer variable,float variable,string variable,list variable,dictionaries variable,set variable,tuple variable\"\"\"\n",
    "var1 = 1\n",
    "var2 = 2.2\n",
    "var3 = \"ankit\"\n",
    "var4 = [2,3,4]\n",
    "var5 = {1:34,3:44,4:45}\n",
    "var6 = {2,3,4}\n",
    "var7 = (2,3,4)"
   ]
  },
  {
   "cell_type": "markdown",
   "id": "3e763fd9-26c1-4453-8ef7-74fc4e9f5281",
   "metadata": {},
   "source": [
    "Q3. How do you convert one data type to another in Python?"
   ]
  },
  {
   "cell_type": "code",
   "execution_count": 13,
   "id": "82ab0e41-90d8-4abf-a832-674abd225708",
   "metadata": {},
   "outputs": [
    {
     "name": "stdout",
     "output_type": "stream",
     "text": [
      "12\n",
      "12.0\n",
      "12\n",
      "('p', 'y', 't', 'h', 'o', 'n')\n",
      "{'y', 'h', 'o', 't', 'p', 'n'}\n",
      "['p', 'y', 't', 'h', 'o', 'n']\n",
      "{2: 3, 4: 5}\n"
     ]
    }
   ],
   "source": [
    "#by using typecasting we can a datatype to another datatype\n",
    "inte = 12\n",
    "var = int(floate)\n",
    "floate = float(inte)\n",
    "string = str(inte)\n",
    "s = \"python\"\n",
    "tup = tuple(s)\n",
    "sets = set(s)\n",
    "lists = list(s)\n",
    "tu = ((2,3),(4,5))\n",
    "dicts = dict(tu)\n",
    "print(var)\n",
    "print(floate)\n",
    "print(string)\n",
    "print(tup)\n",
    "print(sets)\n",
    "print(lists)\n",
    "print(dicts)"
   ]
  },
  {
   "cell_type": "markdown",
   "id": "aeb4cb2f-63eb-4007-a6d0-a927f9dfb086",
   "metadata": {},
   "source": [
    "Q4. How do you write and execute a Python script from the command line?"
   ]
  },
  {
   "cell_type": "markdown",
   "id": "fbe028ef-32ee-44bb-9cbc-bfb978bf0097",
   "metadata": {},
   "source": [
    "ans open a command line and type the word python followed by the path to your script file like this: python first_script.py Hello world!"
   ]
  },
  {
   "cell_type": "markdown",
   "id": "3ce72ec7-d988-4251-9ccc-e4bd974d8455",
   "metadata": {},
   "source": [
    "Q5. Given a list my_list = [1, 2, 3, 4, 5], write the code to slice the list and obtain the sub-list [2, 3]."
   ]
  },
  {
   "cell_type": "code",
   "execution_count": 1,
   "id": "8c7f47ff-3185-4335-a703-e03c72a0d5cf",
   "metadata": {},
   "outputs": [
    {
     "data": {
      "text/plain": [
       "[2, 3]"
      ]
     },
     "execution_count": 1,
     "metadata": {},
     "output_type": "execute_result"
    }
   ],
   "source": [
    "my_list = [1,2,3,4,5]\n",
    "my_list[1:3]"
   ]
  },
  {
   "cell_type": "markdown",
   "id": "ebd2654e-7b55-4a99-85da-0428c4ef3184",
   "metadata": {},
   "source": [
    "Q6. What is a complex number in mathematics, and how is it represented in Python?"
   ]
  },
  {
   "cell_type": "markdown",
   "id": "b94c21d8-caa1-45e4-b280-336ef6d3a822",
   "metadata": {},
   "source": [
    "ans:- Complex Numbers in Maths. Complex numbers are the numbers that are expressed in the form of a+ib where, a,b are real numbers and 'i' is an imaginary number called “iota”. The value of i = (√-1)"
   ]
  },
  {
   "cell_type": "code",
   "execution_count": 8,
   "id": "6b7c7e90-1a4b-4323-a7cb-9cb906749fe7",
   "metadata": {},
   "outputs": [
    {
     "data": {
      "text/plain": [
       "complex"
      ]
     },
     "execution_count": 8,
     "metadata": {},
     "output_type": "execute_result"
    }
   ],
   "source": [
    "a = 4+7j\n",
    "type(a)"
   ]
  },
  {
   "cell_type": "code",
   "execution_count": 9,
   "id": "25b95cd7-510f-4381-8658-0e604e65d714",
   "metadata": {},
   "outputs": [
    {
     "data": {
      "text/plain": [
       "4.0"
      ]
     },
     "execution_count": 9,
     "metadata": {},
     "output_type": "execute_result"
    }
   ],
   "source": [
    "a.real"
   ]
  },
  {
   "cell_type": "code",
   "execution_count": 10,
   "id": "c43d8a60-45d5-49e0-86b4-c6ef6d384224",
   "metadata": {},
   "outputs": [
    {
     "data": {
      "text/plain": [
       "7.0"
      ]
     },
     "execution_count": 10,
     "metadata": {},
     "output_type": "execute_result"
    }
   ],
   "source": [
    "a.imag"
   ]
  },
  {
   "cell_type": "markdown",
   "id": "e97d562c-2e37-4bfa-b52b-f058d1517b04",
   "metadata": {},
   "source": [
    "Q7. What is the correct way to declare a variable named age and assign the value 25 to it?"
   ]
  },
  {
   "cell_type": "code",
   "execution_count": 11,
   "id": "677196f5-b45b-47ea-8c21-82871300949d",
   "metadata": {},
   "outputs": [
    {
     "data": {
      "text/plain": [
       "25"
      ]
     },
     "execution_count": 11,
     "metadata": {},
     "output_type": "execute_result"
    }
   ],
   "source": [
    "\"\"\"In python to declare a variable we simply name the variable and assign it any value of any datatype it\n",
    "automatically understand that what type of datatype is being stored\"\"\"\n",
    "age = 25\n",
    "age"
   ]
  },
  {
   "cell_type": "markdown",
   "id": "1a759fcf-bcd2-4d7f-8721-31f999d45a2e",
   "metadata": {},
   "source": [
    "Q8. Declare a variable named price and assign the value 9.99 to it. What data type does this variable\n",
    "belong to?"
   ]
  },
  {
   "cell_type": "code",
   "execution_count": 12,
   "id": "700ecb9a-ce06-4da9-a6bd-110e51c77126",
   "metadata": {},
   "outputs": [
    {
     "data": {
      "text/plain": [
       "float"
      ]
     },
     "execution_count": 12,
     "metadata": {},
     "output_type": "execute_result"
    }
   ],
   "source": [
    "price = 9.99\n",
    "type(price)"
   ]
  },
  {
   "cell_type": "markdown",
   "id": "857edc32-00d7-4499-97b9-f66b434f047d",
   "metadata": {},
   "source": [
    "Q9. Create a variable named name and assign your full name to it as a string. How would you print the\n",
    "value of this variable?"
   ]
  },
  {
   "cell_type": "code",
   "execution_count": 16,
   "id": "1e9d87cc-92e1-447a-a3a4-895ec47c8385",
   "metadata": {},
   "outputs": [
    {
     "name": "stdout",
     "output_type": "stream",
     "text": [
      "A\n",
      "n\n",
      "k\n",
      "i\n",
      "t\n",
      " \n",
      "s\n",
      "i\n",
      "n\n",
      "g\n",
      "h\n",
      " \n",
      "g\n",
      "u\n",
      "s\n",
      "a\n",
      "i\n",
      "n\n",
      "A\n",
      "n\n",
      "k\n",
      "i\n",
      "t\n",
      " \n",
      "s\n",
      "i\n",
      "n\n",
      "g\n",
      "h\n",
      " \n",
      "g\n",
      "u\n",
      "s\n",
      "a\n",
      "i\n",
      "n\n"
     ]
    }
   ],
   "source": [
    "name = \"Ankit singh gusain\"\n",
    "#to print the each element in a variable we use loop\n",
    "for i in name:\n",
    "     print(i)\n",
    "    #or\n",
    "for i in range(len(name)):\n",
    "    print(name[i])"
   ]
  },
  {
   "cell_type": "markdown",
   "id": "76dc8bde-6eee-4185-b990-ecb8ae4030c5",
   "metadata": {},
   "source": [
    "Q10. Given the string \"Hello, World!\", extract the substring \"World\"."
   ]
  },
  {
   "cell_type": "code",
   "execution_count": 17,
   "id": "4a4e0f2f-c1e3-4861-b273-cf285f784d1c",
   "metadata": {},
   "outputs": [
    {
     "data": {
      "text/plain": [
       "'World'"
      ]
     },
     "execution_count": 17,
     "metadata": {},
     "output_type": "execute_result"
    }
   ],
   "source": [
    "ss = \"Hello, World!\"\n",
    "ss[7:12]"
   ]
  },
  {
   "cell_type": "code",
   "execution_count": null,
   "id": "fbb9ae7d-2467-4ab0-a589-4d161e5233c6",
   "metadata": {},
   "outputs": [],
   "source": []
  }
 ],
 "metadata": {
  "kernelspec": {
   "display_name": "Python 3 (ipykernel)",
   "language": "python",
   "name": "python3"
  },
  "language_info": {
   "codemirror_mode": {
    "name": "ipython",
    "version": 3
   },
   "file_extension": ".py",
   "mimetype": "text/x-python",
   "name": "python",
   "nbconvert_exporter": "python",
   "pygments_lexer": "ipython3",
   "version": "3.10.8"
  }
 },
 "nbformat": 4,
 "nbformat_minor": 5
}
