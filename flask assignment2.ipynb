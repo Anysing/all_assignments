{
 "cells": [
  {
   "cell_type": "markdown",
   "id": "07fcddb0-1820-43c1-86b9-c8bb9f516c79",
   "metadata": {},
   "source": [
    "### Q1. Explain GET and POST methods."
   ]
  },
  {
   "cell_type": "markdown",
   "id": "ce84961a-0c05-40b1-869c-d7df1f45246f",
   "metadata": {},
   "source": [
    "##### * get and post both methods are used to fetch data from an server, But post method is more secure then get method, In get method  we send request through url but In post method we send request through body /form."
   ]
  },
  {
   "cell_type": "markdown",
   "id": "a980e5a4-ce0f-4a6e-a414-2579bd385e50",
   "metadata": {},
   "source": [
    "### Q2. Why is request used in Flask?"
   ]
  },
  {
   "cell_type": "markdown",
   "id": "c4d17560-54d1-4eea-8d71-c0609a32bd88",
   "metadata": {},
   "source": [
    "##### Request is used while giving an parameter to a method we use request for this we first import a request module from flask package.\n",
    "##### data = request.args.get('x')"
   ]
  },
  {
   "cell_type": "markdown",
   "id": "661e3f56-c62a-46cd-bc73-b2311f15255f",
   "metadata": {},
   "source": [
    "### Q3. Why is redirect() used in Flask?"
   ]
  },
  {
   "cell_type": "markdown",
   "id": "e5fce0bd-cea9-4da5-892f-174f604d75d3",
   "metadata": {},
   "source": [
    "##### A redirect is used in the Flask class to send the user to a particular URL with the status code. conversely, this status code additionally identifies the issue. When we access a website, our browser sends a request to the server, and the server replies with what is known as the HTTP status code, which is a three-digit number, The different reasons for errors are:\n",
    "\n",
    "##### Unauthorized access or poor request.\n",
    "##### Unsupported media file types.\n",
    "##### Overload of the backend server.\n",
    "##### Internal hardware/connection error.\n",
    "##### Syntax of Redirect\n",
    "\n",
    "##### flask.redirect(location,code=302)\n",
    "##### Parameters:\n",
    "##### location(str): the location which URL directs to.\n",
    "##### code(int): The status code for Redirect.\n",
    "##### Code: The default code is 302 which means that the move is only temporary.\n"
   ]
  },
  {
   "cell_type": "markdown",
   "id": "6a5897d3-72ce-4d91-adcc-d1927c15d75b",
   "metadata": {},
   "source": [
    "### Q4. What are templates in Flask? Why is the render_template() function used?"
   ]
  },
  {
   "cell_type": "markdown",
   "id": "1fd57584-ee5f-4c9b-a842-61e4813dcb03",
   "metadata": {},
   "source": [
    "##### render_template is a Flask function from the flask.templating package. render_template is used to generate output from a template file based on the Jinja2 engine that is found in the application's templates folder.Note that render_template is typically imported directly from the flask package instead of from flask.templating. It is the same function that is imported, but there are less characters to type when you leave off the .templating part.\n",
    "\n"
   ]
  },
  {
   "cell_type": "markdown",
   "id": "8b52dcc4-dc88-42cc-9514-c4ff53b026ce",
   "metadata": {},
   "source": [
    "### Q5. Create a simple API. Use Postman to test it. Attach the screenshot of the output in the Jupyter Notebook."
   ]
  },
  {
   "cell_type": "markdown",
   "id": "a1c3105f-e654-4b54-9bc3-ed3132c79bf0",
   "metadata": {},
   "source": [
    "![](postman.png)"
   ]
  },
  {
   "cell_type": "code",
   "execution_count": null,
   "id": "0a2c91b7-ce33-4d84-b599-533ad6a3df69",
   "metadata": {},
   "outputs": [],
   "source": []
  }
 ],
 "metadata": {
  "kernelspec": {
   "display_name": "Python 3 (ipykernel)",
   "language": "python",
   "name": "python3"
  },
  "language_info": {
   "codemirror_mode": {
    "name": "ipython",
    "version": 3
   },
   "file_extension": ".py",
   "mimetype": "text/x-python",
   "name": "python",
   "nbconvert_exporter": "python",
   "pygments_lexer": "ipython3",
   "version": "3.10.8"
  }
 },
 "nbformat": 4,
 "nbformat_minor": 5
}
