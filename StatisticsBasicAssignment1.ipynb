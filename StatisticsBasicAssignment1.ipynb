{
 "cells": [
  {
   "cell_type": "markdown",
   "id": "773a46eb-3e3c-4d76-b129-5a4b4f8e3693",
   "metadata": {},
   "source": [
    "# Q1. What is Statistics?"
   ]
  },
  {
   "cell_type": "markdown",
   "id": "852cb82d-7ca3-4b48-b7f4-0dbb9c351152",
   "metadata": {},
   "source": [
    "### A statistics is the science of collecting,organizing and analyzing data. Statistics is used to get some insights from a row data."
   ]
  },
  {
   "cell_type": "markdown",
   "id": "7f58b9c9-f624-4ffa-bbaa-3aa56339e7d4",
   "metadata": {},
   "source": [
    "# Q2. Define the different types of statistics and give an example of when each type might be used."
   ]
  },
  {
   "cell_type": "markdown",
   "id": "45a7ba76-12e1-4194-ba57-e55312bd7919",
   "metadata": {},
   "source": [
    "### There are two types of statistics \n",
    "### 1. Descriptive Statistics\n",
    "### 2. Inferetial Statistics\n",
    "### Descriptive Statistics:- It consist of organizing and summarizing data. To conclude something about the data we use Descriptive Statistics for example Measure of central tendency[Mean,Mode,Median], Measure of Dispersion [variance,Standard deviation], Different type of distribution of data.\n",
    "### Inferential Statistics :- It consist of using data you have measured to form conclusion, basically to understand the bigger picture of data we take inferences from smaller picture of data, for example [Z-test,T-test,CHI SQUARE test]."
   ]
  },
  {
   "cell_type": "markdown",
   "id": "521d6d2b-08e3-4549-8c73-dfb973d64efe",
   "metadata": {},
   "source": [
    "# Q3. What are the different types of data and how do they differ from each other? Provide an example of each type of data."
   ]
  },
  {
   "cell_type": "markdown",
   "id": "a4cc6519-e6c9-47ea-8470-2a78309f119c",
   "metadata": {},
   "source": [
    "### There are mainly two types of data types in statistics\n",
    "### 1. Numerical/Quantitative\n",
    "### 2. Categorical/Qualitative\n",
    "### Qualitative:- In qualitative datatype we have two types of data types DISCRETE AND CONTINUOUS. DISCRETE data type are those data type where number are countable and it is not in fractional or decimal for example [No of students,No of cars] and CONTINUOUS data type are those data type where number are in fraction or decimal for example [Height,Weight]\n",
    "### Quantitative:- In Quantitative datatype we have two types of data types NOMINAL AND ORDINAL. NOMINAL data type are those datatype where ranking of data is not important for example [male/female] and ORDINAL data type are those datatype where ranking of a data is important for example [Short/Tall/Verytall]."
   ]
  },
  {
   "cell_type": "markdown",
   "id": "5784b780-3a98-4da7-9886-cab5e2bc0ba4",
   "metadata": {},
   "source": [
    "# Q4. Categorise the following datasets with respect to quantitative and qualitative data types:\n",
    "# (i) Grading in exam: A+, A, B+, B, C+, C, D, E\n",
    "# (ii) Colour of mangoes: yellow, green, orange, red\n",
    "# (iii) Height data of a class: [178.9, 179, 179.5, 176, 177.2, 178.3, 175.8,...]\n",
    "# (iv) Number of mangoes exported by a farm: [500, 600, 478, 672, ...] "
   ]
  },
  {
   "cell_type": "markdown",
   "id": "b08efbad-fd57-4147-b263-7a3d4c87b002",
   "metadata": {},
   "source": [
    "### Ordinal scale data/Qualitative data:- Grading in exam\n",
    "### Nominal scale data/Qualitative data:- colour of mangoes\n",
    "### Ratio scale data/Quantitative data:- Height data of a class\n",
    "### Ratio scale data/Quantitative data:- Number of mangoes exported by a farm"
   ]
  },
  {
   "cell_type": "markdown",
   "id": "9baea5f8-1dc5-4501-a2cd-6ac12a094c09",
   "metadata": {},
   "source": [
    "# Q5. Explain the concept of levels of measurement and give an example of a variable for each level."
   ]
  },
  {
   "cell_type": "markdown",
   "id": "1bf73a40-6c08-4180-b223-73d2bb999113",
   "metadata": {},
   "source": [
    "### There are four types data\n",
    "### 1. Nominal scale data\n",
    "### 2. Ordinal scale data\n",
    "### 3. Interval scale data\n",
    "### 4. Ratio scale data\n",
    "### Nominal scale data:- Qualitative and categorical data comes under Nominal scale data where order of data is not important for example Gender,Color.\n",
    "### Ordinal scale data:- The data were ranking is important,order of data matters and we cannot find the differences between the data for example Reviews[Good,better,best]\n",
    "### Interval scale data:- A data which does not have any fixed starting point means the values can ranges between -infinity to +infinity, The order of data mmatters,Differences and Ratios can be measured for example Temperature.\n",
    "### Ratio scale data :- A data which has some starting point,the order of data matters,Differences and ratios are also be calculated for example student marks."
   ]
  },
  {
   "cell_type": "markdown",
   "id": "517682ab-2b40-49d8-ae91-6f96e95aa91d",
   "metadata": {},
   "source": [
    "# Q6. Why is it important to understand the level of measurement when analyzing data? Provide an example to illustrate your answer."
   ]
  },
  {
   "cell_type": "markdown",
   "id": "dab341d2-5725-4b0a-a0fd-4b4a92c88564",
   "metadata": {},
   "source": [
    "### Understanding the level of measurement in data analysis is crucial because it determines the types of statistical methods and analyses that are appropriate for the data. The level of measurement impacts how you can summarize, describe, and infer from the data. Here’s a breakdown of why this is important, along with an example:\n",
    "\n",
    "### Levels of Measurement\n",
    "\n",
    "### 1. **Nominal**: Data are categorized without any order (e.g., types of fruit, gender, or colors).\n",
    "### 2. **Ordinal**: Data are categorized with a meaningful order but no consistent difference between categories (e.g., rankings, levels of satisfaction).\n",
    "### 3. **Interval**: Data have ordered categories with consistent differences between them, but no true zero point (e.g., temperature in Celsius).\n",
    "### 4. **Ratio**: Data have ordered categories with consistent differences and a true zero point, allowing for meaningful ratios (e.g., height, weight).\n",
    "\n",
    "### Importance of Understanding the Level of Measurement\n",
    "\n",
    "### 1. **Choice of Statistical Methods**:\n",
    "   ### **Nominal**: You might use frequencies, mode, or chi-square tests.\n",
    "   ### **Ordinal**: You could use median, percentiles, or non-parametric tests like the Mann-Whitney U test.\n",
    "   ### **Interval**: Means and standard deviations are appropriate, and you can use parametric tests like t-tests if assumptions are met.\n",
    "   ### **Ratio**: Similar to interval but with additional methods like geometric means or coefficient of variation, and all parametric tests can be used.\n",
    "\n",
    "### 2. **Data Interpretation**:\n",
    "   ### Understanding the level of measurement helps in interpreting the results correctly. For example, comparing medians is appropriate for ordinal data, while means are used for interval and ratio data.\n",
    "\n",
    "### Example\n",
    "\n",
    "### **Scenario**: A company is analyzing customer satisfaction.\n",
    "\n",
    "### 1. **Nominal**: If they categorize feedback into types such as \"Positive,\" \"Neutral,\" and \"Negative,\" the analysis might involve calculating the frequency of each category and using chi-square tests to see if the distribution of categories differs across different departments.\n",
    "\n",
    "### 2. **Ordinal**: If they use a satisfaction scale from 1 to 5, where 1 means \"Very Dissatisfied\" and 5 means \"Very Satisfied,\" they can calculate the median satisfaction score and use ordinal-specific tests like the Kruskal-Wallis test to compare satisfaction across different groups.\n",
    "\n",
    "### 3. **Interval**: If satisfaction is measured on a scale with equal intervals (e.g., a 1-10 scale with equal steps), they could compute the mean and standard deviation, and perform t-tests or ANOVA to compare mean satisfaction scores between different departments.\n",
    "\n",
    "### 4. **Ratio**: If the company measures the actual time customers spend on a website (which has a true zero and equal intervals), they can compute ratios, use regression analysis, and perform a variety of statistical tests that assume equal intervals and a true zero point.\n",
    "\n",
    "### In summary, the level of measurement informs the appropriate statistical techniques and interpretations, ensuring that the analysis is valid and meaningful. Misapplying methods to data of the wrong level can lead to incorrect conclusions and misinformed decisions."
   ]
  },
  {
   "cell_type": "markdown",
   "id": "13919c25-1857-4f1e-8408-80dc88e2511f",
   "metadata": {},
   "source": [
    "# Q7. How nominal data type is different from ordinal data type."
   ]
  },
  {
   "cell_type": "markdown",
   "id": "9352c50f-0040-47c0-b459-50ff36b580f0",
   "metadata": {},
   "source": [
    "### Nominal scale data:- Qualitative and categorical data comes under Nominal scale data where order of data is not important for example Gender,Color.\n",
    "### Ordinal scale data:- The data were ranking is important,order of data matters and we cannot find the differences between the data for example Reviews[Good,better,best]"
   ]
  },
  {
   "cell_type": "markdown",
   "id": "8f8cc294-20c9-4e70-87d4-96d386407ee9",
   "metadata": {},
   "source": [
    "# Q8. Which type of plot can be used to display data in terms of range?"
   ]
  },
  {
   "cell_type": "markdown",
   "id": "56a316d7-21a8-4e44-a6ce-92cb64f5c3f1",
   "metadata": {},
   "source": [
    "### A box plot is used to display data in terms of range. A box plot display the interquartile range where every data points are present within that range."
   ]
  },
  {
   "cell_type": "markdown",
   "id": "40cd89db-dc0b-434c-b3df-7da6da332a63",
   "metadata": {},
   "source": [
    "# Q9. Describe the difference between descriptive and inferential statistics. Give an example of each type of statistics and explain how they are used."
   ]
  },
  {
   "cell_type": "markdown",
   "id": "93e86ac0-0f3b-453a-a31d-9ca030503d19",
   "metadata": {},
   "source": [
    "### There are two types of statistics \n",
    "### 1. Descriptive Statistics\n",
    "### 2. Inferetial Statistics\n",
    "### Descriptive Statistics:- It consist of organizing and summarizing data. To conclude something about the data we use Descriptive Statistics for example Measure of central tendency[Mean,Mode,Median], Measure of Dispersion [variance,Standard deviation], Different type of distribution of data.\n",
    "### Inferential Statistics :- It consist of using data you have measured to form conclusion, basically to understand the bigger picture of data we take inferences from smaller picture of data, for example [Z-test,T-test,CHI SQUARE test]."
   ]
  },
  {
   "cell_type": "markdown",
   "id": "36936b4a-4a9d-47f0-adf9-337b7bfef68a",
   "metadata": {},
   "source": [
    "# Q10. What are some common measures of central tendency and variability used in statistics? Explain how each measure can be used to describe a dataset."
   ]
  },
  {
   "cell_type": "markdown",
   "id": "546c2a77-cb4b-423a-abc1-1a62e79fb6d9",
   "metadata": {},
   "source": [
    "### In statistics, measures of central tendency and variability are fundamental for summarizing and describing datasets. Here’s a breakdown of common measures in each category, along with their uses:\n",
    "\n",
    "### Measures of Central Tendency\n",
    "\n",
    "\n",
    "\n",
    "### 1. **Mean**:The average of all data points in a dataset, calculated by summing all the values and dividing by the number of values.Provides a central value for the data, useful for datasets with interval or ratio scales. It’s sensitive to outliers, so it may not be the best measure for skewed distributions.Example For test scores of 85, 90, 95, and 100, the mean is ( (85 + 90 + 95 + 100) / 4 = 92.5 ). This indicates that, on average, students scored 92.5.\n",
    "\n",
    "### 2. **Median**:The middle value of a dataset when it is ordered from least to greatest. If there is an even number of values, the median is the average of the two middle values.Provides a central value that is less affected by outliers or skewed distributions. It is especially useful for ordinal data or skewed interval/ratio data.Example For the scores 85, 90, 95, and 100, the median is \\( (90 + 95) / 2 = 92.5 \\). This shows the central point of the data distribution, unaffected by extreme values.\n",
    "\n",
    "### 3. **Mode**:The value that appears most frequently in a dataset.Useful for nominal data or any data where you want to identify the most common value. There can be more than one mode or no mode if no value repeats.Example For the scores 85, 90, 90, 100, the mode is 90, indicating that this score occurred most frequently.\n",
    "\n",
    "### Measures of Variability\n",
    "\n",
    "### 1. **Range**:The difference between the highest and lowest values in a dataset.Provides a simple measure of the spread of data. It’s easy to calculate but can be highly influenced by outliers.Example For scores 85, 90, 95, and 100, the range is ( 100 - 85 = 15 ). This indicates the spread of scores from the lowest to highest.\n",
    "\n",
    "### 2. **Variance**:The average of the squared differences between each data point and the mean. It quantifies the degree of dispersion in the dataset.Provides a measure of how much data points deviate from the mean. Variance is useful for understanding the overall spread but is expressed in squared units.Example For scores 85, 90, 95, and 100, the variance calculation involves finding the squared differences from the mean (92.5) and averaging them. This value helps in understanding how much individual scores differ from the mean.\n",
    "\n",
    "### 3. **Standard Deviation**:The square root of the variance. It provides a measure of variability in the same units as the data.Like variance, it indicates the spread of data points around the mean but is more interpretable because it’s in the same units as the original data.Example For the same scores, the standard deviation is calculated as the square root of the variance. It provides a clear indication of the average distance of data points from the mean.\n",
    "\n",
    "### 4. **Interquartile Range (IQR)**:The range between the first quartile (25th percentile) and the third quartile (75th percentile) of a dataset.Measures the spread of the middle 50% of the data, thus providing a measure of variability that is not influenced by outliers.Example For a dataset with scores ordered as 70, 80, 85, 90, 95, and 100, the IQR would be the difference between the 75th percentile (95) and the 25th percentile (80), which is ( 95 - 80 = 15 ). This helps in understanding the spread of the central portion of the data."
   ]
  },
  {
   "cell_type": "code",
   "execution_count": null,
   "id": "99329c0d-cad6-49c5-90bc-4c3d5e6cb702",
   "metadata": {},
   "outputs": [],
   "source": []
  }
 ],
 "metadata": {
  "kernelspec": {
   "display_name": "Python 3 (ipykernel)",
   "language": "python",
   "name": "python3"
  },
  "language_info": {
   "codemirror_mode": {
    "name": "ipython",
    "version": 3
   },
   "file_extension": ".py",
   "mimetype": "text/x-python",
   "name": "python",
   "nbconvert_exporter": "python",
   "pygments_lexer": "ipython3",
   "version": "3.10.8"
  }
 },
 "nbformat": 4,
 "nbformat_minor": 5
}
