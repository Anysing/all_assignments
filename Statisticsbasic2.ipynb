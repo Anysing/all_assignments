{
 "cells": [
  {
   "cell_type": "markdown",
   "id": "49c7189e-1c4c-4569-bb15-10b9ee58124a",
   "metadata": {},
   "source": [
    "# Q1. What are the three measures of central tendency?"
   ]
  },
  {
   "cell_type": "markdown",
   "id": "a27fb15d-8976-4fc2-a64d-60da897123f1",
   "metadata": {},
   "source": [
    "### There are three measures of central tendency\n",
    "### 1. mean:- Mean indicates the average value of a data distribution \n",
    "### 2. median:- Median indicates the middle value of a data distribution\n",
    "### 3. mode:- Mode indicates the high frequency value of a data distribution"
   ]
  },
  {
   "cell_type": "markdown",
   "id": "cd8433bc-7be6-49f5-bae8-181e307a46bf",
   "metadata": {},
   "source": [
    "# Q2. What is the difference between the mean, median, and mode? How are they used to measure the central tendency of a dataset?"
   ]
  },
  {
   "cell_type": "markdown",
   "id": "2479174e-1739-4f0e-bda8-2af003a3b316",
   "metadata": {},
   "source": [
    "### 1. mean:- Mean indicates the average value of a data distribution. A mean can be used to fill missing value in our dataset only if there is no outlier present in our dataset. \n",
    "### 2. median:- Median indicates the middle value of a data distribution. A median can be used to fill missing value in our dataset no matter whether there are some outlier or not.\n",
    "### 3. mode:- Mode indicates the high frequency value of a data distribution. A mode can be used to fill categorical missing value in our dataset."
   ]
  },
  {
   "cell_type": "markdown",
   "id": "64705b28-c466-4528-b9b1-5ddbea1d61a5",
   "metadata": {},
   "source": [
    "# Q3. Measure the three measures of central tendency for the given height data:\n",
    "[178,177,176,177,178.2,178,175,179,180,175,178.9,176.2,177,172.5,178,176.5]"
   ]
  },
  {
   "cell_type": "code",
   "execution_count": 4,
   "id": "3e96cb6d-3928-4a99-88f2-ea6c6e7f3bbd",
   "metadata": {},
   "outputs": [
    {
     "name": "stdout",
     "output_type": "stream",
     "text": [
      "177.01875\n",
      "177.0\n",
      "ModeResult(mode=array([177.]), count=array([3]))\n"
     ]
    },
    {
     "name": "stderr",
     "output_type": "stream",
     "text": [
      "/tmp/ipykernel_70/2486975387.py:6: FutureWarning: Unlike other reduction functions (e.g. `skew`, `kurtosis`), the default behavior of `mode` typically preserves the axis it acts along. In SciPy 1.11.0, this behavior will change: the default value of `keepdims` will become False, the `axis` over which the statistic is taken will be eliminated, and the value None will no longer be accepted. Set `keepdims` to True or False to avoid this warning.\n",
      "  mode = st.mode(array)\n"
     ]
    }
   ],
   "source": [
    "import numpy as np\n",
    "from scipy import stats as st\n",
    "array = np.array([178,177,176,177,178.2,178,175,179,180,175,178.9,176.2,177,172.5,178,176.5])\n",
    "mean = np.mean(array)\n",
    "median = np.median(array)\n",
    "mode = st.mode(array)\n",
    "print(mean)\n",
    "print(median)\n",
    "print(mode)"
   ]
  },
  {
   "cell_type": "markdown",
   "id": "54ef752b-48f3-45ff-89ce-f1a0d3c75714",
   "metadata": {},
   "source": [
    "# Q4. Find the standard deviation for the given data:\n",
    "[178,177,176,177,178.2,178,175,179,180,175,178.9,176.2,177,172.5,178,176.5]"
   ]
  },
  {
   "cell_type": "code",
   "execution_count": 5,
   "id": "f7d2fa92-6031-4d62-9c59-c80c8fdca1f3",
   "metadata": {},
   "outputs": [
    {
     "name": "stdout",
     "output_type": "stream",
     "text": [
      "1.7885814036548633\n"
     ]
    }
   ],
   "source": [
    "import numpy as np\n",
    "array = np.array([178,177,176,177,178.2,178,175,179,180,175,178.9,176.2,177,172.5,178,176.5])\n",
    "std = np.std(array)\n",
    "print(std)"
   ]
  },
  {
   "cell_type": "markdown",
   "id": "60ffd1f2-085f-4829-a3a7-d97562efae04",
   "metadata": {},
   "source": [
    "# Q5. How are measures of dispersion such as range, variance, and standard deviation used to describe the spread of a dataset? Provide an example."
   ]
  },
  {
   "cell_type": "markdown",
   "id": "be571831-72de-4693-9601-2dd36633b986",
   "metadata": {},
   "source": [
    "### A measure of spread gives us an idea of how well the mean represents the data. When a distribution has lower variability the value in a dataset are more consistent. when the variability is higher the data points are more dissimilar and extreme values become  more likely.\n",
    "### Range:- A range is a difference between the largest and smallest value. For example [5,5,10,90,95] range = 95-5 = 90 the higher value of range represent that the data is inconsistent and it has having extreme value.\n",
    "### variance:- The variance is a numerical value used to indicate how widely individual in a group vary. It measures dispersion around the mean.But it is not robust to outlier\n",
    "### standard deviation:- To overcome the disadvantage of variance, standard deviation came into the picture. It is a square root of variance which comes it a less robust to outlier although it is not very effective to use it if there is an outlier but it is far better then variance."
   ]
  },
  {
   "cell_type": "markdown",
   "id": "63e82a97-da1f-4f76-bfe3-3565811f2fe7",
   "metadata": {},
   "source": [
    "# Q6. What is a Venn diagram?"
   ]
  },
  {
   "cell_type": "markdown",
   "id": "f0f59475-9fb1-490a-a5a7-936c52ccd75e",
   "metadata": {},
   "source": [
    "### A Venn diagram is a type of graph that uses overlapping circles or other shapes to show the logical relationships between two or more sets of items."
   ]
  },
  {
   "cell_type": "markdown",
   "id": "0f4a395b-f509-4976-92a2-f659ec687a7a",
   "metadata": {},
   "source": [
    "# Q7. For the two given sets A = (2,3,4,5,6,7) & B = (0,2,6,8,10). Find:\n",
    "## (i) A intersection B\n",
    "## (ii) A ⋃ B"
   ]
  },
  {
   "cell_type": "markdown",
   "id": "cc257e9c-0c1b-490e-b57e-edbd2c34b64e",
   "metadata": {},
   "source": [
    "### A intersection B = (2,6)\n",
    "### A union B = (0,2,3,4,5,6,7,8,10)"
   ]
  },
  {
   "cell_type": "markdown",
   "id": "b1e4c5db-b5b5-4eca-bb9d-04f4558d8709",
   "metadata": {},
   "source": [
    "# Q8. What do you understand about skewness in data?"
   ]
  },
  {
   "cell_type": "markdown",
   "id": "186522d8-09dd-42ee-bfa1-4c14c270699d",
   "metadata": {},
   "source": [
    "### There are two type of skewness we can see in our data\n",
    "### 1.Left skewed:- When data is very spreaded towards left side then the distribution is called left skewed or negatively skewed. In left skewed distribution we can see the value of mean < median < mode.\n",
    "### 2.Right skewed:- When data is very spreaded towards right side then the distribution is called right skewed or positively skewed. In right skewed distribution we can see the value of mean > median > mode."
   ]
  },
  {
   "cell_type": "markdown",
   "id": "281749ee-4918-4e54-9be4-389459a5d890",
   "metadata": {},
   "source": [
    "# Q9. If a data is right skewed then what will be the position of median with respect to mean?"
   ]
  },
  {
   "cell_type": "markdown",
   "id": "3882aca9-f294-4c5d-b801-120caf38e0e8",
   "metadata": {},
   "source": [
    "### When a data is right skewed then the position of median with respect to mean will be median < mean."
   ]
  },
  {
   "cell_type": "markdown",
   "id": "646898c5-83ce-43af-8c0c-3fc0db58d8b1",
   "metadata": {},
   "source": [
    "# Q10. Explain the difference between covariance and correlation. How are these measures used in statistical analysis?"
   ]
  },
  {
   "cell_type": "markdown",
   "id": "dcf0c57b-a518-422a-80a1-6c8d99e9387a",
   "metadata": {},
   "source": [
    "###  Covariance indicates the direction of the linear relationship between variables. Correlation measures both the strength and direction of the linear relationship between two variables.\n",
    "### By finding the correlation or covariance between a two variable can help us to do feature selection for example if we have 2 independent feature and one dependent and we want select the most affecting independent feature that is affecting our dependent feature mostly then we will select that independent feature and rest of the independent feature will be discarded."
   ]
  },
  {
   "cell_type": "markdown",
   "id": "cb687feb-4a3b-42c9-9d05-278887fcc168",
   "metadata": {},
   "source": [
    "# Q11. What is the formula for calculating the sample mean? Provide an example calculation for a dataset."
   ]
  },
  {
   "cell_type": "markdown",
   "id": "1b5c3dbc-78bd-4d76-89f5-b6f6cb66a4f9",
   "metadata": {},
   "source": [
    "### The sample mean formula is used to calculate the average value of the given sample data. It is necessary sometimes to calculate the average of the sample terms rather than expressing them with actual terms. The sample mean formula can be expressed as the ratio of the sum of terms to the number of terms. i.e.\n",
    "### Sample Mean = (Sum of terms) ÷ (Number of Terms)\n",
    "### Example 1: Find the sample mean of 60, 57, 109, 50.\n",
    "### Solution: \n",
    "## To find: Sample mean\n",
    "## Sum of terms = 60 + 57 + 109 + 50 = 276\n",
    "## Number of terms = 4\n",
    "## Using sample mean formula,\n",
    "## mean = (sum of terms)/(number of terms)\n",
    "## mean = 276/4 = 69"
   ]
  },
  {
   "cell_type": "markdown",
   "id": "1acb5c99-bf3e-4df0-9a1c-728ab62ebc1e",
   "metadata": {},
   "source": [
    "# Q12. For a normal distribution data what is the relationship between its measure of central tendency?"
   ]
  },
  {
   "cell_type": "markdown",
   "id": "a76f4e92-88ec-4f1f-8874-42f83af2f76c",
   "metadata": {},
   "source": [
    "### For a normal distribution the relationship between its measure of central tendency is mean = median = mode."
   ]
  },
  {
   "cell_type": "markdown",
   "id": "44bd808e-12f3-4e84-914a-1d5d08cbad8e",
   "metadata": {},
   "source": [
    "# Q13. How is covariance different from correlation?"
   ]
  },
  {
   "cell_type": "markdown",
   "id": "bdcdf6ce-e3e0-479b-8fb5-5c3360300b66",
   "metadata": {},
   "source": [
    "###  Covariance indicates the direction of the linear relationship between variables. Correlation measures both the strength and direction of the linear relationship between two variables."
   ]
  },
  {
   "cell_type": "markdown",
   "id": "fa328ab1-d58c-4d94-bbb2-3f1a5e3b2882",
   "metadata": {},
   "source": [
    "# Q14. How do outliers affect measures of central tendency and dispersion? Provide an example."
   ]
  },
  {
   "cell_type": "markdown",
   "id": "194466a2-17cd-429c-aaea-9c24b54152d8",
   "metadata": {},
   "source": [
    "### we can not use mean value for filling a missing data because it is not robust to the outlier and by replacing the missing data with mean can lead incorrect data collection.\n",
    "### for example:- 2,5,3,8,1 the mean=2+5+3+8+1/5 = 3.8\n",
    "### for example:- 2,5,3,8,1,90 the mean=2+5+3+8+1+90/6 = 18.16\n",
    "### As we can by adding an outlier to data 90 the value of mean get big variation which is why outlier affect the mean central tendency."
   ]
  }
 ],
 "metadata": {
  "kernelspec": {
   "display_name": "Python 3 (ipykernel)",
   "language": "python",
   "name": "python3"
  },
  "language_info": {
   "codemirror_mode": {
    "name": "ipython",
    "version": 3
   },
   "file_extension": ".py",
   "mimetype": "text/x-python",
   "name": "python",
   "nbconvert_exporter": "python",
   "pygments_lexer": "ipython3",
   "version": "3.10.8"
  }
 },
 "nbformat": 4,
 "nbformat_minor": 5
}
