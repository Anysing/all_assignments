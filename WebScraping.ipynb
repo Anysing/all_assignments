{
 "cells": [
  {
   "cell_type": "markdown",
   "id": "a39bc7f4-0aea-44ab-9634-5f2c8dc3556e",
   "metadata": {},
   "source": [
    "### Q1. What is Web Scraping? Why is it Used? Give three areas where Web Scraping is used to get data."
   ]
  },
  {
   "cell_type": "markdown",
   "id": "dccd425f-8ddd-4487-833f-cb7f22add8fa",
   "metadata": {},
   "source": [
    "##### Web scraping is the process of using bots to extract content and data from a website.web scraping extracts underlying HTML code and, with it, data stored in a database. The scraper can then replicate entire website content elsewhere.There are three major areas in which web scraping is used they are web indexing, web mining and data mining."
   ]
  },
  {
   "cell_type": "markdown",
   "id": "890029a8-6d5a-4b50-878b-197e198f4951",
   "metadata": {},
   "source": [
    "### Q2. What are the different methods used for Web Scraping?"
   ]
  },
  {
   "cell_type": "markdown",
   "id": "37790e57-157c-42f7-9cd5-e3f56b5bc4b3",
   "metadata": {},
   "source": [
    "##### There are 4 mainly methods used for web scraping:-\n",
    "##### beautifulsoup:- It is used to parses the html page make a proper indentation to make our data look simple\n",
    "##### request:-Requests is an HTTP library that allows users to make  HTTP calls to collect data from web sources.\n",
    "##### find_all:- To find a particular tag or class we use find_all method\n",
    "##### urllib:- To open a particular a url automatically we urllib open which open a webpage automatically."
   ]
  },
  {
   "cell_type": "markdown",
   "id": "7834ecdb-1491-4c2d-a01e-664872e4624a",
   "metadata": {},
   "source": [
    "### Q3. What is Beautiful Soup? Why is it used?"
   ]
  },
  {
   "cell_type": "markdown",
   "id": "ea6bb86c-3db7-48a9-8293-7995f81ab4a6",
   "metadata": {},
   "source": [
    "##### The Beautiful Soup is a python library which is named after a Lewis Carroll poem of the same name in “Alice’s Adventures in the Wonderland”. Beautiful Soup is a python package and as the name suggests, parses the unwanted data and helps to organize and format the messy web data by fixing bad HTML and present to us in an easily-traversible XML structures.In short, Beautiful Soup is a python package which allows us to pull data out of HTML and XML documents."
   ]
  },
  {
   "cell_type": "markdown",
   "id": "2458047d-15a5-4b36-b2cd-2a2f749662bb",
   "metadata": {},
   "source": [
    "### Q4. Why is flask used in this Web Scraping project?"
   ]
  },
  {
   "cell_type": "markdown",
   "id": "9d4ccf7b-2c60-4870-842f-91f735f7fea7",
   "metadata": {},
   "source": [
    "##### Flask is a lightweight framework to build websites. We'll use this to parse our collected data and display it as HTML in a new HTML file. The requests module allows us to send http requests to the website we want to scrape.By doing this we can fetch data live from a webpage."
   ]
  },
  {
   "cell_type": "markdown",
   "id": "0625001e-710b-443f-a287-a03c5ff4404b",
   "metadata": {},
   "source": [
    "### Q5. Write the names of AWS services used in this project. Also, explain the use of each service."
   ]
  },
  {
   "cell_type": "markdown",
   "id": "f5559bbe-179e-4425-bc3f-5226949ec3a2",
   "metadata": {},
   "source": [
    "##### There are two main services used in this project first is codepipeline and second is beanstalk.\n",
    "##### codepipeline:- It is used to make a connection from a github so that it can fetch the code of our project and make it executable.\n",
    "##### Beanstalk:- It is used to make a environment for our applications like setting up ram,cpu,storage etc so that our application can get a better environment."
   ]
  },
  {
   "cell_type": "code",
   "execution_count": null,
   "id": "b76223fc-cd56-44cf-b39e-2465f335d7e3",
   "metadata": {},
   "outputs": [],
   "source": []
  }
 ],
 "metadata": {
  "kernelspec": {
   "display_name": "Python 3 (ipykernel)",
   "language": "python",
   "name": "python3"
  },
  "language_info": {
   "codemirror_mode": {
    "name": "ipython",
    "version": 3
   },
   "file_extension": ".py",
   "mimetype": "text/x-python",
   "name": "python",
   "nbconvert_exporter": "python",
   "pygments_lexer": "ipython3",
   "version": "3.10.8"
  }
 },
 "nbformat": 4,
 "nbformat_minor": 5
}
