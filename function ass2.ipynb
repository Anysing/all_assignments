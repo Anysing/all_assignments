{
 "cells": [
  {
   "cell_type": "markdown",
   "id": "bb7830ed-5e15-45a6-a28e-de70597a935f",
   "metadata": {},
   "source": [
    "Q1. Create a python program to sort the given list of tuples based on integer value using a\n",
    "lambda function."
   ]
  },
  {
   "cell_type": "code",
   "execution_count": 7,
   "id": "88755575-c917-4932-9e31-1ff6b25f3f41",
   "metadata": {},
   "outputs": [
    {
     "name": "stdout",
     "output_type": "stream",
     "text": [
      "[('Virat Kohli', 24936), ('Jack Kallis', 25534), ('Ricky Ponting', 27483), ('Sachin Tendulkar', 34357)]\n"
     ]
    }
   ],
   "source": [
    "dicts = [('Sachin Tendulkar', 34357), ('Ricky Ponting', 27483), ('Jack Kallis', 25534), ('Virat Kohli', 24936)]\n",
    "ss = dict(dicts)\n",
    "li = list(ss.values())\n",
    "li = sorted(li)\n",
    "res = [i for j in li\n",
    "       for i in filter(lambda k: k[1] == j, dicts)]\n",
    "print(res)"
   ]
  },
  {
   "cell_type": "markdown",
   "id": "dbba163b-dba1-42f7-889e-8cd7522615a8",
   "metadata": {},
   "source": [
    "Q2. Write a Python Program to find the squares of all the numbers in the given list of integers using\n",
    "lambda and map functions."
   ]
  },
  {
   "cell_type": "code",
   "execution_count": 3,
   "id": "89d9bf42-9a49-4ab1-a365-61f8b13486a3",
   "metadata": {},
   "outputs": [
    {
     "name": "stdout",
     "output_type": "stream",
     "text": [
      "[1, 4, 9, 16, 25, 36, 49, 64, 81, 100]\n"
     ]
    }
   ],
   "source": [
    "lists = [1, 2, 3, 4, 5, 6, 7, 8, 9, 10]\n",
    "sq = list(map(lambda x : x**2 , lists))\n",
    "print(sq)"
   ]
  },
  {
   "cell_type": "markdown",
   "id": "766d41fc-32d8-4a61-a8af-21c1c01402ab",
   "metadata": {},
   "source": [
    "Q3. Write a python program to convert the given list of integers into a tuple of strings. Use map and\n",
    "lambda functions\n",
    "Given String: [1, 2, 3, 4, 5, 6, 7, 8, 9, 10]\n",
    "Expected output: ('1', '2', '3', '4', '5', '6', '7', '8', '9', '10')"
   ]
  },
  {
   "cell_type": "code",
   "execution_count": 29,
   "id": "dbf8fdb6-8ac8-4089-90cb-db166bc88efb",
   "metadata": {},
   "outputs": [
    {
     "name": "stdout",
     "output_type": "stream",
     "text": [
      "('1', '2', '3', '4', '5', '6', '7', '8', '9', '10')\n"
     ]
    }
   ],
   "source": [
    "ss = [1, 2, 3, 4, 5, 6, 7, 8, 9, 10]\n",
    "st = list(map(lambda x : str(x) , ss))\n",
    "tup = tuple(st)\n",
    "print(tup)"
   ]
  },
  {
   "cell_type": "markdown",
   "id": "3e59d615-97dc-4736-8fd3-fc1d26acf363",
   "metadata": {},
   "source": [
    "Q4. Write a python program using reduce function to compute the product of a list containing numbers\n",
    "from 1 to 25."
   ]
  },
  {
   "cell_type": "code",
   "execution_count": 34,
   "id": "e1acff8b-bf64-4e1b-83ab-f7fa7b6236dc",
   "metadata": {},
   "outputs": [
    {
     "name": "stdout",
     "output_type": "stream",
     "text": [
      "15511210043330985984000000\n"
     ]
    }
   ],
   "source": [
    "from functools import reduce\n",
    "li = []\n",
    "for i in range(1,26):\n",
    "    li.append(i)\n",
    "pro = reduce(lambda x,y : x*y , li)\n",
    "print(pro)"
   ]
  },
  {
   "cell_type": "markdown",
   "id": "eb3a4548-2f54-4a73-8caf-06672294784e",
   "metadata": {},
   "source": [
    "Q5. Write a python program to filter the numbers in a given list that are divisible by 2 and 3 using the\n",
    "filter function.\n",
    "[2, 3, 6, 9, 27, 60, 90, 120, 55, 46]"
   ]
  },
  {
   "cell_type": "code",
   "execution_count": 35,
   "id": "a27f0e3d-d869-43b7-858c-c157272e9b05",
   "metadata": {},
   "outputs": [
    {
     "data": {
      "text/plain": [
       "[6, 60, 90, 120]"
      ]
     },
     "execution_count": 35,
     "metadata": {},
     "output_type": "execute_result"
    }
   ],
   "source": [
    "li = [2, 3, 6, 9, 27, 60, 90, 120, 55, 46]\n",
    "fi = list(filter(lambda x : x%2 == 0 and x%3 == 0 , li))\n",
    "fi"
   ]
  },
  {
   "cell_type": "markdown",
   "id": "e39a6478-9be9-4331-b2d8-bf190af4d405",
   "metadata": {},
   "source": [
    "Q6. Write a python program to find palindromes in the given list of strings using lambda and filter\n",
    "function.\n",
    "['python', 'php', 'aba', 'radar', 'level']"
   ]
  },
  {
   "cell_type": "code",
   "execution_count": 40,
   "id": "b7d77da1-4a7b-4a27-930e-115de3327fee",
   "metadata": {},
   "outputs": [
    {
     "data": {
      "text/plain": [
       "['php', 'aba', 'radar', 'level']"
      ]
     },
     "execution_count": 40,
     "metadata": {},
     "output_type": "execute_result"
    }
   ],
   "source": [
    "li = ['python', 'php', 'aba', 'radar', 'level']\n",
    "fi = list(filter(lambda x : x == x[::-1] , li))\n",
    "fi"
   ]
  }
 ],
 "metadata": {
  "kernelspec": {
   "display_name": "Python 3 (ipykernel)",
   "language": "python",
   "name": "python3"
  },
  "language_info": {
   "codemirror_mode": {
    "name": "ipython",
    "version": 3
   },
   "file_extension": ".py",
   "mimetype": "text/x-python",
   "name": "python",
   "nbconvert_exporter": "python",
   "pygments_lexer": "ipython3",
   "version": "3.10.8"
  }
 },
 "nbformat": 4,
 "nbformat_minor": 5
}
