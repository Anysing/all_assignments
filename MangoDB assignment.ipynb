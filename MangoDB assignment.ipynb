{
 "cells": [
  {
   "cell_type": "markdown",
   "id": "c7542b85-f902-4d96-b2bb-68c612ca93d5",
   "metadata": {},
   "source": [
    "### Q1. What is MongoDB? Explain non-relational databases in short. In which scenarios it is preferred to use MongoDB over SQL databases?"
   ]
  },
  {
   "cell_type": "markdown",
   "id": "4908d986-9cec-4b7f-b559-637b5b377baa",
   "metadata": {},
   "source": [
    "##### A MongoDB is an NoSQL(Not only structured query language) databases. It is a non-relational database where data is stored as a document in a key:value pair.Due to more dynamic and scalable for hierarchical data MangoDB is prefered more then SQL database."
   ]
  },
  {
   "cell_type": "markdown",
   "id": "c55c42fb-a33c-4d26-814d-1a9b8e4dd113",
   "metadata": {},
   "source": [
    "### Q2. State and Explain the features of MongoDB."
   ]
  },
  {
   "cell_type": "markdown",
   "id": "ebb17e3f-d782-4acb-978a-19429c026c75",
   "metadata": {},
   "source": [
    "##### Replication. A replica set is two or more MongoDB instances used to provide high availability. Replica sets are made of primary and secondary servers. The primary MongoDB server performs all the read and write operations, while the secondary replica keeps a copy of the data. If a primary replica fails, the secondary replica is then used.\n",
    "##### Scalability. MongoDB supports vertical and horizontal scaling. Vertical scaling works by adding more power to an existing machine, while horizontal scaling works by adding more machines to a user's resources.\n",
    "##### Load balancing. MongoDB handles load balancing without the need for a separate, dedicated load balancer, through either vertical or horizontal scaling.\n",
    "##### Schema-less. MongoDB is a schema-less database, which means the database can manage data without the need for a blueprint.\n",
    "##### Document. Data in MongoDB is stored in documents with key-value pairs instead of rows and columns, which makes the data more flexible when compared to SQL databases."
   ]
  },
  {
   "cell_type": "markdown",
   "id": "a017c871-7b9d-4f71-91fd-da1d55bbc8f3",
   "metadata": {},
   "source": [
    "### Q3. Write a code to connect MongoDB to Python. Also, create a database and a collection in MongoDB."
   ]
  },
  {
   "cell_type": "markdown",
   "id": "03a90430-0567-4413-b173-31d2c780189f",
   "metadata": {},
   "source": [
    "##### import pymango\n",
    "##### client = pymango.MongoClient(\"url\")\n",
    "##### db = client.test\n",
    "##### db = client['pwskills']\n",
    "##### data = {\"name\":\"ankit\",\"age\":21,\"course\":\"Datascience\"}\n",
    "##### collection = db[my_collection]\n",
    "##### collection.insert_one(data)"
   ]
  },
  {
   "cell_type": "markdown",
   "id": "bc713650-0abd-407f-9d17-f2c5645b4cdc",
   "metadata": {},
   "source": [
    "### Q4. Using the database and the collection created in question number 3, write a code to insert one record, and insert many records. Use the find() and find_one() methods to print the inserted record."
   ]
  },
  {
   "cell_type": "markdown",
   "id": "46dc55b4-c8f0-4bf8-9beb-6d68c8e614bf",
   "metadata": {},
   "source": [
    "##### data1 = {\"name\":\"Ashish\",\"age\":24,\"course\":\"Webdevelopment\"}\n",
    "##### data2 = [{\"name\":\"Ashish\",\"age\":,22:\"course\":\"webdevelopment\"},{\"name\":\"sachine\",\"age\":21,\"course\":\"webdevelopment\"},{\"name\":\"Shivansh\",\"age\":21,\"course\":\"webdevelopment\"}]\n",
    "##### collection.insert_one(data1)\n",
    "##### collection.insert_many(data2)\n",
    "##### for i in collection.find_one({\"age\":24}):\n",
    "##### print(i)\n",
    "##### for i in collection.find({\"age\":{\"$gte\":21}}):\n",
    "##### print(i)"
   ]
  },
  {
   "cell_type": "markdown",
   "id": "7da807bb-267d-4678-8251-30de5c5055ea",
   "metadata": {},
   "source": [
    "### Q5. Explain how you can use the find() method to query the MongoDB database. Write a simple code to demonstrate this."
   ]
  },
  {
   "cell_type": "markdown",
   "id": "1267be4c-2032-4bf7-9915-acd56fb4cc87",
   "metadata": {},
   "source": [
    "##### A find is function that is used to retrieve data from database. To retrieve one or more data from database we use find fuction to fetch a specific data from database we can also pass condition.\n",
    "##### for i in collection.find():\n",
    "##### print(i)\n",
    "##### for i in collection.fing({\"age\":{\"$gte: 21\"}}):\n",
    "##### print(i)"
   ]
  },
  {
   "cell_type": "markdown",
   "id": "45946f6c-5b22-4f49-80cb-5c8c11e451e5",
   "metadata": {},
   "source": [
    "### Q6. Explain the sort() method. Give an example to demonstrate sorting in MongoDB."
   ]
  },
  {
   "cell_type": "markdown",
   "id": "0066563f-b102-40ac-9bd3-9259e2e2b2d2",
   "metadata": {},
   "source": [
    "##### A sort() is a method in mangoDB that is used to retrieve data in a sorted order to retrieve a data is ascending order we pass 1 to sort() and -1 for descending order.\n",
    "##### for i in collection.find().sort({\"age\" : 1}):\n",
    "##### print(i)"
   ]
  },
  {
   "cell_type": "markdown",
   "id": "3989773b-7da6-4505-accb-96b22950aeaf",
   "metadata": {},
   "source": [
    "### Q7. Explain why delete_one(), delete_many(), and drop() is used."
   ]
  },
  {
   "cell_type": "markdown",
   "id": "2958a890-c23d-415f-8b7c-eab1763f515c",
   "metadata": {},
   "source": [
    "##### A delete_one() is used to delete a single document where as delete_many() can delete one or more document, A drop() is used to delete a collection from a database.\n",
    "##### collection.delete_one({\"name\":\"ankit\"})\n",
    "##### collection.delete_many({\"age\":{\"$gte\": 22}})\n",
    "##### "
   ]
  }
 ],
 "metadata": {
  "kernelspec": {
   "display_name": "Python 3 (ipykernel)",
   "language": "python",
   "name": "python3"
  },
  "language_info": {
   "codemirror_mode": {
    "name": "ipython",
    "version": 3
   },
   "file_extension": ".py",
   "mimetype": "text/x-python",
   "name": "python",
   "nbconvert_exporter": "python",
   "pygments_lexer": "ipython3",
   "version": "3.10.8"
  }
 },
 "nbformat": 4,
 "nbformat_minor": 5
}
