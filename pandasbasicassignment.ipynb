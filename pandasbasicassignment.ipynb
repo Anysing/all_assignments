{
 "cells": [
  {
   "cell_type": "markdown",
   "id": "a0d73fd9-b405-4da3-a14b-bfc2dc995854",
   "metadata": {},
   "source": [
    "### Q1. Create a Pandas Series that contains the following data: 4, 8, 15, 16, 23, and 42. Then, print the series."
   ]
  },
  {
   "cell_type": "code",
   "execution_count": 11,
   "id": "0882093f-93af-45f7-979f-52bd37d839bb",
   "metadata": {},
   "outputs": [
    {
     "data": {
      "text/plain": [
       "0     4\n",
       "1     8\n",
       "2    15\n",
       "3    16\n",
       "4    23\n",
       "5    42\n",
       "dtype: int64"
      ]
     },
     "execution_count": 11,
     "metadata": {},
     "output_type": "execute_result"
    }
   ],
   "source": [
    "import pandas as pd\n",
    "df = pd.Series([4,8,15,16,23,42])\n",
    "df"
   ]
  },
  {
   "cell_type": "markdown",
   "id": "f73737a0-ea9a-4100-bdcc-61bc891dfbb8",
   "metadata": {},
   "source": [
    "### Q2. Create a variable of list type containing 10 elements in it, and apply pandas.Series function on the variable print it."
   ]
  },
  {
   "cell_type": "code",
   "execution_count": 12,
   "id": "eab779c8-dcd1-4d42-8dcb-b6d165d16801",
   "metadata": {},
   "outputs": [
    {
     "data": {
      "text/plain": [
       "0     1\n",
       "1     2\n",
       "2     3\n",
       "3     4\n",
       "4     5\n",
       "5     6\n",
       "6     7\n",
       "7     8\n",
       "8     9\n",
       "9    10\n",
       "dtype: int64"
      ]
     },
     "execution_count": 12,
     "metadata": {},
     "output_type": "execute_result"
    }
   ],
   "source": [
    "data = [1,2,3,4,5,6,7,8,9,10]\n",
    "df = pd.Series(data)\n",
    "df"
   ]
  },
  {
   "cell_type": "markdown",
   "id": "ddd1c260-e91f-44b1-a4eb-a38cc67d19cb",
   "metadata": {},
   "source": [
    "### Q3. Create a Pandas DataFrame that contains the following data:"
   ]
  },
  {
   "cell_type": "code",
   "execution_count": 13,
   "id": "d5a0c643-cda3-411d-be89-64a55e016df8",
   "metadata": {},
   "outputs": [
    {
     "data": {
      "text/html": [
       "<div>\n",
       "<style scoped>\n",
       "    .dataframe tbody tr th:only-of-type {\n",
       "        vertical-align: middle;\n",
       "    }\n",
       "\n",
       "    .dataframe tbody tr th {\n",
       "        vertical-align: top;\n",
       "    }\n",
       "\n",
       "    .dataframe thead th {\n",
       "        text-align: right;\n",
       "    }\n",
       "</style>\n",
       "<table border=\"1\" class=\"dataframe\">\n",
       "  <thead>\n",
       "    <tr style=\"text-align: right;\">\n",
       "      <th></th>\n",
       "      <th>Name</th>\n",
       "      <th>Age</th>\n",
       "      <th>Gender</th>\n",
       "    </tr>\n",
       "  </thead>\n",
       "  <tbody>\n",
       "    <tr>\n",
       "      <th>0</th>\n",
       "      <td>Alice</td>\n",
       "      <td>25</td>\n",
       "      <td>Female</td>\n",
       "    </tr>\n",
       "    <tr>\n",
       "      <th>1</th>\n",
       "      <td>Bob</td>\n",
       "      <td>30</td>\n",
       "      <td>Male</td>\n",
       "    </tr>\n",
       "    <tr>\n",
       "      <th>2</th>\n",
       "      <td>claire</td>\n",
       "      <td>27</td>\n",
       "      <td>Female</td>\n",
       "    </tr>\n",
       "  </tbody>\n",
       "</table>\n",
       "</div>"
      ],
      "text/plain": [
       "     Name  Age  Gender\n",
       "0   Alice   25  Female\n",
       "1     Bob   30    Male\n",
       "2  claire   27  Female"
      ]
     },
     "execution_count": 13,
     "metadata": {},
     "output_type": "execute_result"
    }
   ],
   "source": [
    "data = {\"Name\":[\"Alice\",\"Bob\",\"claire\"],\"Age\":[25,30,27],\"Gender\":[\"Female\",\"Male\",\"Female\"]}\n",
    "df = pd.DataFrame(data)\n",
    "df"
   ]
  },
  {
   "cell_type": "markdown",
   "id": "b608d0d6-314f-46dc-8706-c0bc85a48c17",
   "metadata": {},
   "source": [
    "### Q4. What is ‘DataFrame’ in pandas and how is it different from pandas.series? Explain with an example."
   ]
  },
  {
   "cell_type": "markdown",
   "id": "14f3d82c-7162-4a32-a2e9-6755b3316bcd",
   "metadata": {},
   "source": [
    "#### pandas.Series\n",
    "##### One-dimensional\t\n",
    "##### Homogenous – Series elements must be of the same data type.\n",
    "##### Size-immutable – Once created, the size of a Series object cannot be changed.\tSize-mutable – Elements can be dropped or added in an existing DataFrame."
   ]
  },
  {
   "cell_type": "markdown",
   "id": "92ac048b-7070-4be1-90d0-7937ffff811a",
   "metadata": {},
   "source": [
    "#### DataFrame\n",
    "##### Two-dimensional\n",
    "##### Heterogenous – DataFrame elements can have different data types.\n",
    "##### Size-mutable – Elements can be dropped or added in an existing DataFrame."
   ]
  },
  {
   "cell_type": "markdown",
   "id": "bde38b37-5c47-4d16-9f56-3e3b6b602982",
   "metadata": {},
   "source": [
    "### Q5. What are some common functions you can use to manipulate data in a Pandas DataFrame? Can you give an example of when you might use one of these functions?"
   ]
  },
  {
   "cell_type": "code",
   "execution_count": 15,
   "id": "9047b7d3-03c9-4d63-b124-b06b5130e606",
   "metadata": {},
   "outputs": [
    {
     "data": {
      "text/html": [
       "<div>\n",
       "<style scoped>\n",
       "    .dataframe tbody tr th:only-of-type {\n",
       "        vertical-align: middle;\n",
       "    }\n",
       "\n",
       "    .dataframe tbody tr th {\n",
       "        vertical-align: top;\n",
       "    }\n",
       "\n",
       "    .dataframe thead th {\n",
       "        text-align: right;\n",
       "    }\n",
       "</style>\n",
       "<table border=\"1\" class=\"dataframe\">\n",
       "  <thead>\n",
       "    <tr style=\"text-align: right;\">\n",
       "      <th></th>\n",
       "      <th>Name</th>\n",
       "      <th>Age</th>\n",
       "      <th>Gender</th>\n",
       "    </tr>\n",
       "  </thead>\n",
       "  <tbody>\n",
       "    <tr>\n",
       "      <th>0</th>\n",
       "      <td>Alice</td>\n",
       "      <td>25</td>\n",
       "      <td>Female</td>\n",
       "    </tr>\n",
       "    <tr>\n",
       "      <th>1</th>\n",
       "      <td>Bob</td>\n",
       "      <td>30</td>\n",
       "      <td>Male</td>\n",
       "    </tr>\n",
       "    <tr>\n",
       "      <th>2</th>\n",
       "      <td>claire</td>\n",
       "      <td>27</td>\n",
       "      <td>Female</td>\n",
       "    </tr>\n",
       "    <tr>\n",
       "      <th>3</th>\n",
       "      <td>Johan</td>\n",
       "      <td>33</td>\n",
       "      <td>Male</td>\n",
       "    </tr>\n",
       "    <tr>\n",
       "      <th>4</th>\n",
       "      <td>Joseph</td>\n",
       "      <td>43</td>\n",
       "      <td>Male</td>\n",
       "    </tr>\n",
       "    <tr>\n",
       "      <th>5</th>\n",
       "      <td>Janvi</td>\n",
       "      <td>22</td>\n",
       "      <td>Feamle</td>\n",
       "    </tr>\n",
       "    <tr>\n",
       "      <th>6</th>\n",
       "      <td>Arnab</td>\n",
       "      <td>63</td>\n",
       "      <td>Male</td>\n",
       "    </tr>\n",
       "    <tr>\n",
       "      <th>7</th>\n",
       "      <td>Mansi</td>\n",
       "      <td>21</td>\n",
       "      <td>Female</td>\n",
       "    </tr>\n",
       "  </tbody>\n",
       "</table>\n",
       "</div>"
      ],
      "text/plain": [
       "     Name  Age  Gender\n",
       "0   Alice   25  Female\n",
       "1     Bob   30    Male\n",
       "2  claire   27  Female\n",
       "3   Johan   33    Male\n",
       "4  Joseph   43    Male\n",
       "5   Janvi   22  Feamle\n",
       "6   Arnab   63    Male\n",
       "7   Mansi   21  Female"
      ]
     },
     "execution_count": 15,
     "metadata": {},
     "output_type": "execute_result"
    }
   ],
   "source": [
    "data = {\"Name\":[\"Alice\",\"Bob\",\"claire\",\"Johan\",\"Joseph\",\"Janvi\",\"Arnab\",\"Mansi\"],\"Age\":[25,30,27,33,43,22,63,21],\"Gender\":[\"Female\",\"Male\",\"Female\",\"Male\",\"Male\",\"Feamle\",\"Male\",\"Female\"]}\n",
    "df = pd.DataFrame(data)\n",
    "df"
   ]
  },
  {
   "cell_type": "code",
   "execution_count": 19,
   "id": "ddde7c4d-3f88-415a-a88e-d25fbb788b35",
   "metadata": {},
   "outputs": [
    {
     "name": "stdout",
     "output_type": "stream",
     "text": [
      "     Name  Age  Gender\n",
      "0   Alice   25  Female\n",
      "1     Bob   30    Male\n",
      "2  claire   27  Female\n",
      "3   Johan   33    Male\n",
      "4  Joseph   43    Male\n"
     ]
    }
   ],
   "source": [
    "print(df.head())\n",
    "# IF WE WANT TO SEE THE FIRST FEW ENTRIES WE CAN USE THE HEAD FUNCTION BYDEFAULT IT SHOWS THE FIRST 5 ROWS OF OUR DATASET"
   ]
  },
  {
   "cell_type": "code",
   "execution_count": 21,
   "id": "032d935d-8a5b-44a6-a95c-2086e65ee418",
   "metadata": {},
   "outputs": [
    {
     "name": "stdout",
     "output_type": "stream",
     "text": [
      "     Name  Age  Gender\n",
      "3   Johan   33    Male\n",
      "4  Joseph   43    Male\n",
      "5   Janvi   22  Feamle\n",
      "6   Arnab   63    Male\n",
      "7   Mansi   21  Female\n"
     ]
    }
   ],
   "source": [
    "print(df.tail())\n",
    "# # IF WE WANT TO SEE THE LAST FEW ENTRIES WE CAN USE THE TAIL FUNCTION BYDEFAULT IT SHOWS THE LAST 5 ROWS OF OUR DATASET"
   ]
  },
  {
   "cell_type": "code",
   "execution_count": 25,
   "id": "b4a866a8-aef4-408c-992b-aa6689438bd9",
   "metadata": {},
   "outputs": [
    {
     "data": {
      "text/html": [
       "<div>\n",
       "<style scoped>\n",
       "    .dataframe tbody tr th:only-of-type {\n",
       "        vertical-align: middle;\n",
       "    }\n",
       "\n",
       "    .dataframe tbody tr th {\n",
       "        vertical-align: top;\n",
       "    }\n",
       "\n",
       "    .dataframe thead th {\n",
       "        text-align: right;\n",
       "    }\n",
       "</style>\n",
       "<table border=\"1\" class=\"dataframe\">\n",
       "  <thead>\n",
       "    <tr style=\"text-align: right;\">\n",
       "      <th></th>\n",
       "      <th>Age</th>\n",
       "    </tr>\n",
       "  </thead>\n",
       "  <tbody>\n",
       "    <tr>\n",
       "      <th>count</th>\n",
       "      <td>8.0000</td>\n",
       "    </tr>\n",
       "    <tr>\n",
       "      <th>mean</th>\n",
       "      <td>33.0000</td>\n",
       "    </tr>\n",
       "    <tr>\n",
       "      <th>std</th>\n",
       "      <td>14.0102</td>\n",
       "    </tr>\n",
       "    <tr>\n",
       "      <th>min</th>\n",
       "      <td>21.0000</td>\n",
       "    </tr>\n",
       "    <tr>\n",
       "      <th>25%</th>\n",
       "      <td>24.2500</td>\n",
       "    </tr>\n",
       "    <tr>\n",
       "      <th>50%</th>\n",
       "      <td>28.5000</td>\n",
       "    </tr>\n",
       "    <tr>\n",
       "      <th>75%</th>\n",
       "      <td>35.5000</td>\n",
       "    </tr>\n",
       "    <tr>\n",
       "      <th>max</th>\n",
       "      <td>63.0000</td>\n",
       "    </tr>\n",
       "  </tbody>\n",
       "</table>\n",
       "</div>"
      ],
      "text/plain": [
       "           Age\n",
       "count   8.0000\n",
       "mean   33.0000\n",
       "std    14.0102\n",
       "min    21.0000\n",
       "25%    24.2500\n",
       "50%    28.5000\n",
       "75%    35.5000\n",
       "max    63.0000"
      ]
     },
     "execution_count": 25,
     "metadata": {},
     "output_type": "execute_result"
    }
   ],
   "source": [
    "df.describe()\n",
    "# THIS FUNCTION TELLS THE STATISTICAL INFORMATION FOR THOSE COLUMN WHO CONTAINS INTEGER OR FLOATING DATATYPE"
   ]
  },
  {
   "cell_type": "code",
   "execution_count": 26,
   "id": "b0e7e21a-9077-4721-9c70-8da754c9b496",
   "metadata": {},
   "outputs": [
    {
     "name": "stdout",
     "output_type": "stream",
     "text": [
      "<class 'pandas.core.frame.DataFrame'>\n",
      "RangeIndex: 8 entries, 0 to 7\n",
      "Data columns (total 3 columns):\n",
      " #   Column  Non-Null Count  Dtype \n",
      "---  ------  --------------  ----- \n",
      " 0   Name    8 non-null      object\n",
      " 1   Age     8 non-null      int64 \n",
      " 2   Gender  8 non-null      object\n",
      "dtypes: int64(1), object(2)\n",
      "memory usage: 320.0+ bytes\n"
     ]
    }
   ],
   "source": [
    "df.info()\n",
    "# THIS FUNCTION IS USED TO TAKE THE INFORMATION OF OUR DATASET LIKE HOW MANY COLUMN, NULL VALUES, DATATYPES ETC. "
   ]
  },
  {
   "cell_type": "markdown",
   "id": "35480c76-3989-4d71-99c3-f24f241ca50e",
   "metadata": {},
   "source": [
    "### Q6. Which of the following is mutable in nature Series, DataFrame, Panel?"
   ]
  },
  {
   "cell_type": "markdown",
   "id": "3c60aa3a-b338-42e1-9ff5-45e7f135c3e9",
   "metadata": {},
   "source": [
    "#### A Series is mutable by values,means we can change the values by excessing their index but the size of the series is immutable,means once the size of an series is declared we cannot extend it\n",
    "#### A DataFrame is mutable\n",
    "#### A panel is also mutable"
   ]
  },
  {
   "cell_type": "markdown",
   "id": "bbe65535-2f81-43b2-aa92-c9aa3a28ce54",
   "metadata": {},
   "source": [
    "### Q7. Create a DataFrame using multiple Series. Explain with an example."
   ]
  },
  {
   "cell_type": "code",
   "execution_count": 29,
   "id": "325eaf3a-a3da-4d31-80fb-68e4ca741c13",
   "metadata": {},
   "outputs": [
    {
     "name": "stdout",
     "output_type": "stream",
     "text": [
      "         A      B     C\n",
      "0    Spark  22000  1000\n",
      "1  PySpark  25000  2300\n",
      "2   Hadoop  23000  1000\n"
     ]
    }
   ],
   "source": [
    "courses = pd.Series([\"Spark\",\"PySpark\",\"Hadoop\"])\n",
    "fees = pd.Series([22000,25000,23000])\n",
    "discount  = pd.Series([1000,2300,1000])\n",
    "df=pd.concat([courses,fees,discount],axis=1)\n",
    "df.columns = [\"A\",\"B\",\"C\"]\n",
    "print(df)"
   ]
  },
  {
   "cell_type": "code",
   "execution_count": null,
   "id": "8392969e-6a19-4551-b46d-261da611d3ff",
   "metadata": {},
   "outputs": [],
   "source": []
  }
 ],
 "metadata": {
  "kernelspec": {
   "display_name": "Python 3 (ipykernel)",
   "language": "python",
   "name": "python3"
  },
  "language_info": {
   "codemirror_mode": {
    "name": "ipython",
    "version": 3
   },
   "file_extension": ".py",
   "mimetype": "text/x-python",
   "name": "python",
   "nbconvert_exporter": "python",
   "pygments_lexer": "ipython3",
   "version": "3.10.8"
  }
 },
 "nbformat": 4,
 "nbformat_minor": 5
}
