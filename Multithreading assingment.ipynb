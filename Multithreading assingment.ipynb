{
 "cells": [
  {
   "cell_type": "markdown",
   "id": "ec4ea15f-ee75-4cba-b9dd-01bb8c77bf85",
   "metadata": {},
   "source": [
    "### Q1. What is multithreading in python? hy is it used? Name the module used to handle threads in python"
   ]
  },
  {
   "cell_type": "markdown",
   "id": "88decc5e-fe21-4fda-a706-b1ce84c391a3",
   "metadata": {},
   "source": [
    "##### To run any program or to run any task we have dedicated system in which we have many processing unit which we called cores. There can be many cores according to the system. To run a program in a single cores we have multithreading as it makes multithreads in a single core so that the performance of a processor can be utilized in complete ways. \n",
    "##### There are is a module in python through which we can perform multithreading Which is import threading"
   ]
  },
  {
   "cell_type": "markdown",
   "id": "5e55c7e9-4a55-4528-a6c8-82d9d7104e66",
   "metadata": {},
   "source": [
    "### Q2. Why threading module used? Write the use of the following functions\n",
    "### 1. activeCount()  2. currentThread()  3. enumerate()"
   ]
  },
  {
   "cell_type": "markdown",
   "id": "c69cb8b1-47fc-413b-8015-f79733c3dd5f",
   "metadata": {},
   "source": [
    "##### To run a program in a single cores we have multithreading as it makes multithreads in a single core so that the performance of a processor can be utilized in complete ways. There are is a module in python through which we can perform multithreading Which is import threading\n",
    "##### threading.activeCount() − Returns the number of thread objects that are active.\n",
    "##### threading.currentThread() − Returns the number of thread objects in the caller's thread control.\n",
    "##### threading.enumerate() − Returns a list of all thread objects that are currently active."
   ]
  },
  {
   "cell_type": "markdown",
   "id": "70003a66-b4fe-4b8c-990b-2b8de9b14679",
   "metadata": {},
   "source": [
    "### Q3. Explain the following functions\n",
    "### 1. run()  2. start()  3. join()  4. isAlive()"
   ]
  },
  {
   "cell_type": "markdown",
   "id": "2e094b95-fc07-479b-aa6e-57d4237fd2d0",
   "metadata": {},
   "source": [
    "##### There are many methods provided by the thread class\n",
    "##### run()  − The run() method is the entry point for a thread.\n",
    "##### start()  − The start() method starts a thread by calling the run method.\n",
    "##### join()  − The join() waits for threads to terminate.\n",
    "##### isAlive()  − The isAlive() method checks whether a thread is still executing."
   ]
  },
  {
   "cell_type": "markdown",
   "id": "4bcbb94d-8f5f-444d-bad4-20976d39b201",
   "metadata": {},
   "source": [
    "### Q4. Write a python program to create two threads. Thread one must print the list of squares and thread two must print the list of cubes"
   ]
  },
  {
   "cell_type": "code",
   "execution_count": 32,
   "id": "b3aaa258-eaec-42d8-a36d-3e08cb871bd0",
   "metadata": {},
   "outputs": [
    {
     "name": "stdout",
     "output_type": "stream",
     "text": [
      "[1, 4, 9, 16, 25]\n",
      "[1, 8, 27, 64, 125]\n"
     ]
    }
   ],
   "source": [
    "import threading\n",
    "def print_square(i):\n",
    "    a = [t**2 for t in range(1,i)]\n",
    "    print(a)\n",
    "def print_cube(i):\n",
    "    b = [t**3 for t in range(1,i)]\n",
    "    print(b)\n",
    "th1 = threading.Thread(target = print_square, args = (6,)) \n",
    "th2 = threading.Thread(target = print_cube, args = (6,))\n",
    "th1.start()\n",
    "th2.start()"
   ]
  },
  {
   "cell_type": "markdown",
   "id": "a07118e0-c94d-4948-a64a-fb86c8abe3bd",
   "metadata": {},
   "source": [
    "### Q5. State advantages and disadvantages of multithreading "
   ]
  },
  {
   "cell_type": "markdown",
   "id": "1272e1db-5320-4d6e-acfd-6718b94abc27",
   "metadata": {},
   "source": [
    "##### Advantages of multithreading\n",
    "##### * Enhanced performance by decreased development time\n",
    "##### * Simplified and streamlined program coding\n",
    "##### * Improvised GUI responsiveness\n",
    "##### * Simultaneous and parallelized occurrence of tasks\n",
    "##### * Better use of cache storage by utilization of resources\n",
    "##### * Decreased cost of maintenance\n",
    "##### * Better use of CPU resource\n",
    "\n",
    "##### Disadvantages of multithreading\n",
    "##### * Complex debugging and testing processes\n",
    "##### * Overhead switching of context\n",
    "##### * Increased potential for deadlock occurrence\n",
    "##### * Increased difficulty level in writing a program\n",
    "##### * Unpredictable results"
   ]
  },
  {
   "cell_type": "markdown",
   "id": "644e9cca-5c13-4c82-8337-1ad6cf41fe7c",
   "metadata": {},
   "source": [
    "### Q6. Explain deadlocks and race conditions."
   ]
  },
  {
   "cell_type": "markdown",
   "id": "027a9a9e-9555-4d5a-8729-351d222e7494",
   "metadata": {},
   "source": [
    "##### Deadlocks:- \n",
    "##### Race condition:- A race condition occurs when two threads access a shared variable at the same time. The first thread reads the variable, and the second thread reads the same value from the variable."
   ]
  }
 ],
 "metadata": {
  "kernelspec": {
   "display_name": "Python 3 (ipykernel)",
   "language": "python",
   "name": "python3"
  },
  "language_info": {
   "codemirror_mode": {
    "name": "ipython",
    "version": 3
   },
   "file_extension": ".py",
   "mimetype": "text/x-python",
   "name": "python",
   "nbconvert_exporter": "python",
   "pygments_lexer": "ipython3",
   "version": "3.10.8"
  }
 },
 "nbformat": 4,
 "nbformat_minor": 5
}
