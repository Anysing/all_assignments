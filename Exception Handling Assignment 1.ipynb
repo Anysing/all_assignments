{
 "cells": [
  {
   "cell_type": "markdown",
   "id": "880c6aa6-bf79-4f65-b3ca-71a0b6e0baee",
   "metadata": {},
   "source": [
    "### Q1. What is an exception handling in python? Write the difference between exceptions and syntax errors."
   ]
  },
  {
   "cell_type": "markdown",
   "id": "6bb2684d-7466-4584-8804-02c6ac7c6e28",
   "metadata": {},
   "source": [
    "##### whenever we write a code or a program it might be possible that some error or issues might occurs in the program other then syntax error the issues that occurs during the runtime of code can be handle by exception handling if the exception is handled it will not affect the excution of code but if there is syntax error in our program the program get stop in middle of the program.\n",
    "##### there are various exception in python for example :- divisonbyzero, attributenotfound, filenotfoundl, typeerror etc."
   ]
  },
  {
   "cell_type": "markdown",
   "id": "eab4d9e2-1178-4b8d-903b-a6826cd45b0d",
   "metadata": {},
   "source": [
    "### Q2. What happen when an exception is not handled? Explain with an example."
   ]
  },
  {
   "cell_type": "markdown",
   "id": "22bc86b2-fe1d-4c71-bab2-67000e207daa",
   "metadata": {},
   "source": [
    "##### As we have discussed above during an execution of code it might be possible that some exception might get occured this type of exception can be handled by exception handling. If an exception is not  handled then the code get stoped running. "
   ]
  },
  {
   "cell_type": "code",
   "execution_count": 2,
   "id": "e1ee7e88-a72a-44df-b918-53546b7f2cec",
   "metadata": {},
   "outputs": [
    {
     "ename": "ZeroDivisionError",
     "evalue": "integer division or modulo by zero",
     "output_type": "error",
     "traceback": [
      "\u001b[0;31m---------------------------------------------------------------------------\u001b[0m",
      "\u001b[0;31mZeroDivisionError\u001b[0m                         Traceback (most recent call last)",
      "Cell \u001b[0;32mIn[2], line 3\u001b[0m\n\u001b[1;32m      1\u001b[0m i \u001b[38;5;241m=\u001b[39m \u001b[38;5;241m12\u001b[39m\n\u001b[1;32m      2\u001b[0m b \u001b[38;5;241m=\u001b[39m \u001b[38;5;241m0\u001b[39m\n\u001b[0;32m----> 3\u001b[0m c \u001b[38;5;241m=\u001b[39m \u001b[43mi\u001b[49m\u001b[38;5;241;43m/\u001b[39;49m\u001b[38;5;241;43m/\u001b[39;49m\u001b[43mb\u001b[49m\n\u001b[1;32m      4\u001b[0m \u001b[38;5;28mprint\u001b[39m(c)\n\u001b[1;32m      5\u001b[0m \u001b[38;5;28mprint\u001b[39m(\u001b[38;5;124m\"\u001b[39m\u001b[38;5;124mThis line will not get executed because here exception is not handled\u001b[39m\u001b[38;5;124m\"\u001b[39m)\n",
      "\u001b[0;31mZeroDivisionError\u001b[0m: integer division or modulo by zero"
     ]
    }
   ],
   "source": [
    "i = 12\n",
    "b = 0\n",
    "c = i//b\n",
    "print(c)\n",
    "print(\"This line will not get executed because here exception is not handled\")"
   ]
  },
  {
   "cell_type": "code",
   "execution_count": 10,
   "id": "ac67cfaa-3c8d-4069-b58d-e40a4ee31da8",
   "metadata": {},
   "outputs": [
    {
     "name": "stdout",
     "output_type": "stream",
     "text": [
      "ZeroDivisionError\n",
      "The remaining code will get executed because here the exception is handled\n"
     ]
    }
   ],
   "source": [
    "try:\n",
    "    i = 12\n",
    "    b = 0\n",
    "    c = i//b\n",
    "except ZeroDivisionError as e:\n",
    "    print(\"ZeroDivisionError\")\n",
    "print(\"The remaining code will get executed because here the exception is handled\")\n",
    "    "
   ]
  },
  {
   "cell_type": "markdown",
   "id": "941a1367-cd29-4d68-a555-71113b027283",
   "metadata": {},
   "source": [
    "### Q3. Which python statements are used to catch and handle exception? Explain with an example."
   ]
  },
  {
   "cell_type": "markdown",
   "id": "d7bb5550-7fcf-4096-b504-b6daf5d3a407",
   "metadata": {},
   "source": [
    "##### THere are mainly four block which are used to handle exceptions\n",
    "##### 1) try block:- in this we write a code so that it check whether there is an exception in the code\n",
    "##### 2) except block:- After finding exception by the try block the control is then given to except block in which it display that which kind of exception is occured if a try block do not find an exception then the except block will not get executed.\n",
    "##### 3) else block:- if a try block do not find an exception then the except block will not get executed and the control id givne to the else block.\n",
    "##### 4) finally block:- Whether an exceptino is raised or not the finally block will definitely get executed."
   ]
  },
  {
   "cell_type": "code",
   "execution_count": 13,
   "id": "3135a8b7-febc-4df8-aeff-27ed8ef98e16",
   "metadata": {},
   "outputs": [
    {
     "name": "stdout",
     "output_type": "stream",
     "text": [
      "ZeroDivisionError\n",
      "The remaining code will get executed because here the exception is handled\n"
     ]
    }
   ],
   "source": [
    "try:\n",
    "    i = 12\n",
    "    b = 0\n",
    "    c = i//b\n",
    "except ZeroDivisionError as e:\n",
    "    print(\"ZeroDivisionError\")\n",
    "else:\n",
    "    print(\"NO exception is raised\")\n",
    "finally:\n",
    "    print(\"The remaining code will get executed because here the exception is handled\")\n",
    "    "
   ]
  },
  {
   "cell_type": "markdown",
   "id": "1cc4e12d-4994-47e8-ba65-537421fb6738",
   "metadata": {},
   "source": [
    "### Explain with an Example\n",
    "### a. try and else\n",
    "### b. finally\n",
    "### c. raise"
   ]
  },
  {
   "cell_type": "markdown",
   "id": "c2f7c789-6f48-4e3c-b2ce-9098a1805f5e",
   "metadata": {},
   "source": [
    "##### 1) try block:- in this we write a code so that it check whether there is an exception in the code\n",
    "##### 2) else block:- if a try block do not find an exception then the except block will not get executed and the control id givne to the else block.\n",
    "##### 3) finally block :- Whether an exceptino is raised or not the finally block will definitely get executed.\n",
    "##### 4) raise:- While writing an custom exception handling we use raise keyword to do so                                                             "
   ]
  },
  {
   "cell_type": "code",
   "execution_count": 14,
   "id": "cd32703c-dc57-416c-affd-54d9a34598f1",
   "metadata": {},
   "outputs": [
    {
     "name": "stdout",
     "output_type": "stream",
     "text": [
      "ZeroDivisionError\n",
      "The remaining code will get executed because here the exception is handled\n"
     ]
    }
   ],
   "source": [
    "try:\n",
    "    i = 12\n",
    "    b = 0\n",
    "    c = i//b\n",
    "except ZeroDivisionError as e:\n",
    "    print(\"ZeroDivisionError\")\n",
    "else:\n",
    "    print(\"NO exception is raised\")\n",
    "finally:\n",
    "    print(\"The remaining code will get executed because here the exception is handled\")\n",
    "    "
   ]
  },
  {
   "cell_type": "code",
   "execution_count": 16,
   "id": "aedbec48-27db-47bd-a630-5bdf81b1cda6",
   "metadata": {},
   "outputs": [
    {
     "name": "stdin",
     "output_type": "stream",
     "text": [
      "Enter your age;-  -33\n"
     ]
    },
    {
     "name": "stdout",
     "output_type": "stream",
     "text": [
      "Age cannot be Negative\n"
     ]
    }
   ],
   "source": [
    "class validage(Exception):\n",
    "    def __init__(self,msg):\n",
    "        self.msg = msg\n",
    "def checkage(age):\n",
    "    if age < 0:\n",
    "        raise validage(\"Age cannot be Negative\")\n",
    "    elif age > 100:\n",
    "        raise validage(\"Age cannot be more then 100\")\n",
    "    else:\n",
    "        print(\"Valid age\")\n",
    "try:\n",
    "    age = int(input(\"Enter your age;- \"))\n",
    "    checkage(age)\n",
    "except validage as e:\n",
    "    print(e)"
   ]
  },
  {
   "cell_type": "markdown",
   "id": "7c10175b-e474-4159-903c-9cdf612a892b",
   "metadata": {},
   "source": [
    "### Q5. What are Custom exceptions in python? Why do we need custom exceptions? Explain with an example."
   ]
  },
  {
   "cell_type": "markdown",
   "id": "d6655ff3-333f-4ec6-be0e-5b7f3b65a530",
   "metadata": {},
   "source": [
    "##### In python we can create our own custom exception, Let suppose you are giving a value to an variable age of -33 while executing it the program will not get error because we are assigning an value to a variable and age cannot be negative or more then 150 or 120 that we make an custom exceptions for this type of problems"
   ]
  },
  {
   "cell_type": "code",
   "execution_count": 18,
   "id": "50a12856-8676-4f2e-87d9-39f1621c2b38",
   "metadata": {},
   "outputs": [
    {
     "name": "stdin",
     "output_type": "stream",
     "text": [
      "Enter your age;-  -1\n"
     ]
    },
    {
     "name": "stdout",
     "output_type": "stream",
     "text": [
      "Age cannot be Negative\n"
     ]
    }
   ],
   "source": [
    "class validage(Exception):\n",
    "    def __init__(self,msg):\n",
    "        self.msg = msg\n",
    "def checkage(age):\n",
    "    if age < 0:\n",
    "        raise validage(\"Age cannot be Negative\")\n",
    "    elif age > 100:\n",
    "        raise validage(\"Age cannot be more then 100\")\n",
    "    else:\n",
    "        print(\"Valid age\")\n",
    "try:\n",
    "    age = int(input(\"Enter your age;- \"))\n",
    "    checkage(age)\n",
    "except validage as e:\n",
    "    print(e)"
   ]
  },
  {
   "cell_type": "markdown",
   "id": "6f89d9b2-0577-417b-94a0-18a8984e4b54",
   "metadata": {},
   "source": [
    "### Q6. Create an cus"
   ]
  }
 ],
 "metadata": {
  "kernelspec": {
   "display_name": "Python 3 (ipykernel)",
   "language": "python",
   "name": "python3"
  },
  "language_info": {
   "codemirror_mode": {
    "name": "ipython",
    "version": 3
   },
   "file_extension": ".py",
   "mimetype": "text/x-python",
   "name": "python",
   "nbconvert_exporter": "python",
   "pygments_lexer": "ipython3",
   "version": "3.10.8"
  }
 },
 "nbformat": 4,
 "nbformat_minor": 5
}
