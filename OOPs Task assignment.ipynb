{
 "cells": [
  {
   "cell_type": "markdown",
   "id": "717224ff-e4ce-4e85-9dd7-1605de63b3fc",
   "metadata": {},
   "source": [
    "### Q1, Create a vehicle class with an init method having instance variables as name_of_vehicle, max_speedand average_of_vehicle."
   ]
  },
  {
   "cell_type": "code",
   "execution_count": 1,
   "id": "520af58a-11bc-49e0-9f22-f39eb7a6a706",
   "metadata": {},
   "outputs": [],
   "source": [
    "class vehicle:\n",
    "    def __init__(self):\n",
    "        self.name_of_vehicle = \"Mustang\"\n",
    "        self.speed_of_vehicle = 250\n",
    "        self.average_of_vehicle = 13"
   ]
  },
  {
   "cell_type": "code",
   "execution_count": 4,
   "id": "9ea954d7-211b-4a5b-8133-a36474920e82",
   "metadata": {},
   "outputs": [
    {
     "name": "stdout",
     "output_type": "stream",
     "text": [
      "Mustang\n",
      "250\n",
      "13\n"
     ]
    }
   ],
   "source": [
    "ankit = vehicle()\n",
    "print(ankit.name_of_vehicle)\n",
    "print(ankit.speed_of_vehicle)\n",
    "print(ankit.average_of_vehicle)"
   ]
  },
  {
   "cell_type": "markdown",
   "id": "63ada1e3-ad0d-433a-b828-097920a11428",
   "metadata": {},
   "source": [
    "### Q2. Create a child class car from the vehicle class created in Que 1, which will inherit the vehicle class.Create a method named seating_capacity which takes capacity as an argument and returns the name ofthe vehicle and its seating capacity."
   ]
  },
  {
   "cell_type": "code",
   "execution_count": 18,
   "id": "5372736e-72d1-40ae-9877-6ebda7722d88",
   "metadata": {},
   "outputs": [],
   "source": [
    "class vehicle:\n",
    "    def __init__(self):\n",
    "        self.name_of_vehicle = \"Mustang\"\n",
    "        self.speed_of_vehicle = 250\n",
    "        self.average_of_vehicle = 13\n",
    "\n",
    "        \n",
    "class car(vehicle):\n",
    "    def seating_capacity(self,capacity):\n",
    "        return self.name_of_vehicle, capacity"
   ]
  },
  {
   "cell_type": "code",
   "execution_count": 19,
   "id": "f7d267c2-9839-42bb-8eff-9b83b753161b",
   "metadata": {},
   "outputs": [
    {
     "data": {
      "text/plain": [
       "('Mustang', 4)"
      ]
     },
     "execution_count": 19,
     "metadata": {},
     "output_type": "execute_result"
    }
   ],
   "source": [
    "ankit = car()\n",
    "ankit.seating_capacity(4)"
   ]
  },
  {
   "cell_type": "markdown",
   "id": "0b4b646f-2079-48cd-b6a6-c0c3116a9ec6",
   "metadata": {},
   "source": [
    "### Q3. What is multiple inheritance? Write a python code to demonstrate multiple inheritance."
   ]
  },
  {
   "cell_type": "markdown",
   "id": "37ddd853-4076-45d6-955c-5e82d397c933",
   "metadata": {},
   "source": [
    "##### A process where the child class or object inherits the methods and attributes from one or more parent classes\n"
   ]
  },
  {
   "cell_type": "code",
   "execution_count": 23,
   "id": "2c869855-34c1-4568-8e02-194a74a2e6c9",
   "metadata": {},
   "outputs": [],
   "source": [
    "class grandfather:\n",
    "    def class_test1(self):\n",
    "        return \"my eyes is like yours\"\n",
    "class father:\n",
    "    def class_test2(self):\n",
    "        return \"my noise is like yours\"\n",
    "class son(grandfather,father):\n",
    "    pass"
   ]
  },
  {
   "cell_type": "code",
   "execution_count": 26,
   "id": "7dd10cc3-e697-4b0b-ac16-dff5521a67b5",
   "metadata": {},
   "outputs": [
    {
     "name": "stdout",
     "output_type": "stream",
     "text": [
      "my eyes is like yours\n",
      "my noise is like yours\n"
     ]
    }
   ],
   "source": [
    "ankit = son()\n",
    "print(ankit.class_test1())\n",
    "print(ankit.class_test2())"
   ]
  },
  {
   "cell_type": "markdown",
   "id": "65f09fdb-1ff7-4d13-89c6-7b4cbe25f894",
   "metadata": {},
   "source": [
    "### Q4. What are getter and setter in python? Create a class and create a getter and a setter method in this class."
   ]
  },
  {
   "cell_type": "markdown",
   "id": "a341d1fd-d015-45e6-b9a5-21d24b84c966",
   "metadata": {},
   "source": [
    "##### It is property of decorator in which we can change or modify a private attribute, So that a user cannot directly can the attribute by himself"
   ]
  },
  {
   "cell_type": "code",
   "execution_count": 27,
   "id": "edb69f6c-1f52-474f-832f-0b8a7ede8e37",
   "metadata": {},
   "outputs": [],
   "source": [
    "class pwskills:\n",
    "    def __init__(self,course_price,course_name):\n",
    "        self.__course_price = course_price\n",
    "        self.course_name = course_name\n",
    "    @property\n",
    "    def course_price_access(self):\n",
    "        return self.__course_price\n",
    "    @course_price_access.setter\n",
    "    def course_price_set(self,price):\n",
    "        if price <= 3500:\n",
    "            pass\n",
    "        else:\n",
    "            self.__course_price = price\n",
    "    @course_price_access.deleter\n",
    "    def delete_course_price(self):\n",
    "        del self.__course_price"
   ]
  },
  {
   "cell_type": "code",
   "execution_count": 50,
   "id": "427c4775-cead-4ae4-8517-315dd7637dda",
   "metadata": {},
   "outputs": [
    {
     "data": {
      "text/plain": [
       "3500"
      ]
     },
     "execution_count": 50,
     "metadata": {},
     "output_type": "execute_result"
    }
   ],
   "source": [
    "ankit = pwskills(3500,\"Data science master\")\n",
    "ankit.course_price_access"
   ]
  },
  {
   "cell_type": "code",
   "execution_count": 51,
   "id": "52c7478c-cb4a-4af6-80db-1987cc1859cb",
   "metadata": {},
   "outputs": [],
   "source": [
    "ankit.course_price_set = 2500"
   ]
  },
  {
   "cell_type": "code",
   "execution_count": 52,
   "id": "4a5ebd36-7b11-4ba1-a61e-dc66584d1cf1",
   "metadata": {},
   "outputs": [
    {
     "data": {
      "text/plain": [
       "3500"
      ]
     },
     "execution_count": 52,
     "metadata": {},
     "output_type": "execute_result"
    }
   ],
   "source": [
    "ankit.course_price_access"
   ]
  },
  {
   "cell_type": "markdown",
   "id": "658c99f4-e71d-4b16-8bd8-0df85532a945",
   "metadata": {},
   "source": [
    "### Q5.What is method overriding in python? Write a python code to demonstrate method overriding."
   ]
  },
  {
   "cell_type": "markdown",
   "id": "37d312de-db2e-49e7-ad94-cf564fb4a507",
   "metadata": {},
   "source": [
    "##### whenever a child class inherits the parent class and in child class there is same method of same name as in parent class, the child class can override the method of same name"
   ]
  },
  {
   "cell_type": "code",
   "execution_count": 53,
   "id": "e7e0f5d9-955f-47f3-b23c-db4537a517f1",
   "metadata": {},
   "outputs": [],
   "source": [
    "class Shape:\n",
    "\n",
    "    data1 = \"abc\"\n",
    "    def no_of_sides(self):\n",
    "        print(\"My sides need to be defined. I am from shape class.\")\n",
    "    def two_dimensional(self):\n",
    "        print(\"I am a 2D object. I am from shape class\")\n",
    "\n",
    "class Square(Shape):\n",
    "    data2 = \"xyz\"\n",
    "\n",
    "    def no_of_sides(self):\n",
    "        print(\"I have 4 sides. I am from Square class\")\n",
    "\n",
    "    def color(self):\n",
    "        print(\"I have teal color. I am from Square class.\")"
   ]
  },
  {
   "cell_type": "code",
   "execution_count": 55,
   "id": "84ac045a-bd31-4d4d-a49c-1bee6ac8c756",
   "metadata": {},
   "outputs": [
    {
     "name": "stdout",
     "output_type": "stream",
     "text": [
      "I have 4 sides. I am from Square class\n",
      "I am a 2D object. I am from shape class\n",
      "I have teal color. I am from Square class.\n"
     ]
    }
   ],
   "source": [
    "sq = Square()\n",
    "sq.no_of_sides()\n",
    "sq.two_dimensional()\n",
    "sq.color()"
   ]
  },
  {
   "cell_type": "code",
   "execution_count": null,
   "id": "59161fbf-4d83-42a9-ad8d-c36b2c7271c5",
   "metadata": {},
   "outputs": [],
   "source": []
  }
 ],
 "metadata": {
  "kernelspec": {
   "display_name": "Python 3 (ipykernel)",
   "language": "python",
   "name": "python3"
  },
  "language_info": {
   "codemirror_mode": {
    "name": "ipython",
    "version": 3
   },
   "file_extension": ".py",
   "mimetype": "text/x-python",
   "name": "python",
   "nbconvert_exporter": "python",
   "pygments_lexer": "ipython3",
   "version": "3.10.8"
  }
 },
 "nbformat": 4,
 "nbformat_minor": 5
}
