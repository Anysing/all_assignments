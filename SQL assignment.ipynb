{
 "cells": [
  {
   "cell_type": "markdown",
   "id": "d6f2bff7-755a-4375-a88c-72d79e6db05f",
   "metadata": {},
   "source": [
    "### Q1. What is a database? Differentiate between SQL and NoSQL databases."
   ]
  },
  {
   "cell_type": "markdown",
   "id": "5d97ebc1-7494-4faa-a7a7-31428bc89a03",
   "metadata": {},
   "source": [
    "##### A database is a collection of data that is organized, which is also called structured data. It can be accessed or stored in a computer system. It can be managed through a Database Management System (DBMS).\n",
    "##### A SQL is a type of database which generally used relational databases, In SQL the data is stored in tabular format Where as NoSQL is also a type of database which use non-relational databases, In NoSQL the data is stored in key:value pair."
   ]
  },
  {
   "cell_type": "markdown",
   "id": "a5ac05c5-4ce6-4a4e-89eb-0988c02626cd",
   "metadata": {},
   "source": [
    "###  Q2. What is DDL? Explain why CREATE, DROP, ALTER, and TRUNCATE are used with an example."
   ]
  },
  {
   "cell_type": "markdown",
   "id": "43271ca8-5bb9-42a8-9244-f72fcb015807",
   "metadata": {},
   "source": [
    "##### A DDL stands for Data Defination Language which is a part of SQL It has four command CREATE,DROP,ALTER,TRUNCATE which is used to give a defination of a table and to update the defination of a table.\n",
    "##### CREATE:- It is used to create a database or a table\n",
    "##### create database pwskills;\n",
    "##### create table ankit(st_id int,st_name varchar(50),st_course varchar(50));\n",
    "##### DROP:-DROP command is used to delete a table completely from a database\n",
    "##### DROP table ankit;\n",
    "##### Alter:-An ALTER command is used to add a column or to modify a column\n",
    "##### ALTER table ankit add(st_add varchar(50),st_state varchar(50));\n",
    "##### ALTER table ankit modify st_add int;\n",
    "##### ALTER table ankit change st_add address varchar(50);\n",
    "##### ALTER table ankit drop column sr_state;\n",
    "##### TRUNCATE:- TRUNCATE is a command used to delete a data from the table instead of deleting a table.\n",
    "##### TRUNCATE table ankit;"
   ]
  },
  {
   "cell_type": "markdown",
   "id": "f5c771b3-6573-48c5-b339-594a9e8eb942",
   "metadata": {},
   "source": [
    "### Q3. What is DML? Explain INSERT, UPDATE, and DELETE with an example."
   ]
  },
  {
   "cell_type": "markdown",
   "id": "eaa79d37-8265-40a9-86f5-3323cdac49fd",
   "metadata": {},
   "source": [
    "##### A DML stands for DATA MANIPULATING LANGUAGE which is also a part of SQL It has three command INSERT, UPDATE, and DELETE which is used to give a data or change a data or to delete a data.\n",
    "##### INSERT:- A insert command is used to insert a data in a particular column\n",
    "##### insert into ankit values(1,ankit,jollygrant);\n",
    "##### UPDATE:- A update command is used to update a particular data from a particular column\n",
    "##### update ankit set category = \"Adult\" where age >= 18;\n",
    "##### DELETE:- A delete command is used to delete a complete row from a table\n",
    "##### delete from ankit where age <=15;"
   ]
  },
  {
   "cell_type": "markdown",
   "id": "60e22ca1-3e83-43d1-bb9f-6befffbd837e",
   "metadata": {},
   "source": [
    "### Q4. What is DQL? Explain SELECT with an example."
   ]
  },
  {
   "cell_type": "markdown",
   "id": "0727e4bb-e5c4-48da-9570-3dedc6b8b0a8",
   "metadata": {},
   "source": [
    "##### A DQL stands for DATA QUERY LANGUAGE which is a part of SQL it has one command SELECT which is used to fetch a particular data from a table\n",
    "##### SELECT:- A select command is used to fetch a particular data\n",
    "##### select * from ankit;\n",
    "##### select st_id,st_name from ankit where age <= 18;"
   ]
  },
  {
   "cell_type": "markdown",
   "id": "b74cb68a-901b-4a5e-97a6-ade9b6c36065",
   "metadata": {},
   "source": [
    "### Q5. Explain Primary Key and Foreign Key."
   ]
  },
  {
   "cell_type": "markdown",
   "id": "2cbbf0ee-327f-4155-afe1-0e71074690d2",
   "metadata": {},
   "source": [
    "##### A Primary key is a unique identifier by which we can identify each row uniquely. A Primary cannot contain duplicate values\n",
    "##### A Foreign key is used to give reference to other tables. A Foreign key is generally used to join two or more tables."
   ]
  },
  {
   "cell_type": "markdown",
   "id": "9a8eef61-8793-4192-b83c-2c1570f3b25e",
   "metadata": {},
   "source": [
    "### Q6. Write a python code to connect MySQL to python. Explain the cursor() and execute() method."
   ]
  },
  {
   "cell_type": "markdown",
   "id": "7e4cb3c6-ac3a-4661-b598-cf02f10df975",
   "metadata": {},
   "source": [
    "##### import mySQL.connector\n",
    "##### mydb = mySQL.connector.connect(\n",
    "##### host = \"localhost\",\n",
    "##### username = \"abc\",\n",
    "##### password = \"password\",)\n",
    "##### mycursor = mydb.cursor()\n",
    "##### mycursor.execute()\n",
    "##### A cursor() is used to point a cell so that we can put the data or retrieve a data from a table by using mycursor = mydb.cursor() we can create a cursor\n",
    "##### A execute() is used to execute every query written in SQL by using cursor.execute(\"create database ankit\") we can execute any query"
   ]
  },
  {
   "cell_type": "markdown",
   "id": "b43de5f3-aa51-4742-a024-7222862e8eaa",
   "metadata": {},
   "source": [
    "### Q7. Give the order of execution of SQL clauses in an SQL query."
   ]
  },
  {
   "cell_type": "markdown",
   "id": "c1ea8ad4-a0ec-4d63-9501-4d78b64f347b",
   "metadata": {},
   "source": [
    "##### 1\tFROM\tTables are joined to get the base data.\n",
    "##### 2\tWHERE\tThe base data is filtered.\n",
    "##### 3\tGROUP BY\tThe filtered base data is grouped.\n",
    "##### 4\tHAVING\tThe grouped base data is filtered.\n",
    "##### 5\tSELECT\tThe final data is returned.\n",
    "##### 6\tORDER BY\tThe final data is sorted.\n",
    "##### 7\tLIMIT\tThe returned data is limited to row count.\n"
   ]
  }
 ],
 "metadata": {
  "kernelspec": {
   "display_name": "Python 3 (ipykernel)",
   "language": "python",
   "name": "python3"
  },
  "language_info": {
   "codemirror_mode": {
    "name": "ipython",
    "version": 3
   },
   "file_extension": ".py",
   "mimetype": "text/x-python",
   "name": "python",
   "nbconvert_exporter": "python",
   "pygments_lexer": "ipython3",
   "version": "3.10.8"
  }
 },
 "nbformat": 4,
 "nbformat_minor": 5
}
