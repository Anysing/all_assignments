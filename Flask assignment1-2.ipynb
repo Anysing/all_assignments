{
 "cells": [
  {
   "cell_type": "markdown",
   "id": "d2e15a63-126e-4c64-91a8-2e05a7610b59",
   "metadata": {},
   "source": [
    "### Q1. What is Flask Framework? What are the advantages of Flask Framework?"
   ]
  },
  {
   "cell_type": "markdown",
   "id": "7f4792ea-1f9d-400b-ae45-af194bd7b2cd",
   "metadata": {},
   "source": [
    "##### Flask is a web framework. Flask allows you to build a web application by providing tools, libraries, and technologies.\n",
    "### Advantages of flask framework:-\n",
    "##### Lightweight: Flask is a lightweight framework because it is independent of external libraries and it gives a quick start for web development having complex applications.\n",
    "##### Compatible: Flask is compatible with the latest technologies such as machine learning, agile development, cloud technologies, etc.\n",
    "##### Independent: Flask allows full control to the developers for creating web applications. A developer can do the experiment with the libraries and architecture of the framework.\n",
    "##### Integrated Unit Testing: Flask offers an integrated unit testing feature that helps in faster debugging, robust development, and independence to do experiments.\n",
    "##### Flexible and Scalable: Flask supports WSGI templates that help in flexibility and scalability in the web development process.\n",
    "##### Secure Cookies: Secure cookie is an attribute of an HTTP request that enables the security of channels and ensures no unauthorized person has access to the text. Flask supports the feature of secure cookies. "
   ]
  },
  {
   "cell_type": "markdown",
   "id": "a10125c8-c87c-40cc-9c2a-d156d3ead6e5",
   "metadata": {},
   "source": [
    "### Q2. Create a simple Flask application to display ‘Hello World!!’. Attach the screenshot of the output in Jupyter Notebook."
   ]
  },
  {
   "cell_type": "markdown",
   "id": "34de2a3e-2dcc-41dc-a414-c931893cf170",
   "metadata": {},
   "source": [
    "![](screenshot.png)"
   ]
  },
  {
   "cell_type": "markdown",
   "id": "43244e8c-4776-4b9a-b451-221164e354dd",
   "metadata": {},
   "source": [
    "### Q3. What is App routing in Flask? Why do we use app routes?"
   ]
  },
  {
   "cell_type": "markdown",
   "id": "f53e35be-d199-4bcf-960d-936e5039f85b",
   "metadata": {},
   "source": [
    "##### App routing is the technique used to map the specific URL with the associated function intended to perform some task.\n",
    "##### There are two ways through which we can bind the URLs to their associated function:-\n",
    "##### 1.) Using route() decorator\n",
    "##### 2.) Using add_url_rule() function\n",
    "##### from flask import Flask\n",
    "##### app = Flask(__name__)\n",
    "##### @app.route(\"/\")\n",
    "##### def root():\n",
    "##### return \"pwskills!!\"\n",
    "##### @app.route(\"/hello\")\n",
    "##### def hello():\n",
    "##### return \"Hello Coders, Welcome to pwskills!!\"\n",
    "##### if __name__ == \"__main__\":\n",
    "##### app.run(debug=True)"
   ]
  },
  {
   "cell_type": "markdown",
   "id": "6036544a-3737-4f7d-addb-4dfb885a5ad9",
   "metadata": {},
   "source": [
    "### Q4. Create a “/welcome” route to display the welcome message “Welcome to ABC Corporation” and a “/” route to show the following details:\n",
    "### Company Name: ABC Corporation\n",
    "### Location: India\n",
    "### Contact Detail: 999-999-9999"
   ]
  },
  {
   "cell_type": "markdown",
   "id": "cf4aa46f-71e3-476d-9b15-6386156a81ac",
   "metadata": {},
   "source": [
    "![](screenshot1.png)"
   ]
  },
  {
   "cell_type": "markdown",
   "id": "a17bade2-a604-4d47-8357-9dc3f963769e",
   "metadata": {},
   "source": [
    "![](screenshot2.png)"
   ]
  },
  {
   "cell_type": "markdown",
   "id": "992a350d-8f40-419c-9cde-b724affd2907",
   "metadata": {},
   "source": [
    "### Q5. What function is used in Flask for URL Building? Write a Python code to demonstrate the working of the url_for() function."
   ]
  },
  {
   "cell_type": "markdown",
   "id": "87a2f91d-4713-432f-a3f7-6bddd95607a8",
   "metadata": {},
   "source": [
    "##### The url_for() function is very useful for dynamically building a URL for a specific function. The function accepts the name of a function as an argument.\n",
    "##### from flask import Flask, redirect, url_for\n",
    "##### app = Flask(__name__)\n",
    "##### @app.route('/admin')\n",
    "##### def hello_admin():\n",
    "#####   return 'Hello Admin'\n",
    "##### @app.route(\"/guest/guest\")\n",
    "##### def hello_guest(guest):\n",
    "#####    return 'Hello %s as Guest' % guest\n",
    "##### @app.route('/user/name')\n",
    "##### def hello_user(name):\n",
    "#####   name = request.args.get('x')\n",
    "#####   if name =='admin':\n",
    "#####      return redirect(url_for('hello_admin'))\n",
    "#####   else:\n",
    "#####      return redirect(url_for('hello_guest',guest = name))\n",
    "##### if __name__ == '__main__':\n",
    "#####    app.run(debug = True)"
   ]
  },
  {
   "cell_type": "code",
   "execution_count": null,
   "id": "24a783d5-1666-4d35-91ce-59bf45c27bb8",
   "metadata": {},
   "outputs": [],
   "source": []
  }
 ],
 "metadata": {
  "kernelspec": {
   "display_name": "Python 3 (ipykernel)",
   "language": "python",
   "name": "python3"
  },
  "language_info": {
   "codemirror_mode": {
    "name": "ipython",
    "version": 3
   },
   "file_extension": ".py",
   "mimetype": "text/x-python",
   "name": "python",
   "nbconvert_exporter": "python",
   "pygments_lexer": "ipython3",
   "version": "3.10.8"
  }
 },
 "nbformat": 4,
 "nbformat_minor": 5
}
