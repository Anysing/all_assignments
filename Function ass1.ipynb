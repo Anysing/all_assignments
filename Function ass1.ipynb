{
 "cells": [
  {
   "cell_type": "markdown",
   "id": "1e9d6980-1d8f-4826-9a15-25d800bc833e",
   "metadata": {},
   "source": [
    "Q1. Which keyword is used to create a function? Create a function to return a list of odd numbers in the\n",
    "range of 1 to 25."
   ]
  },
  {
   "cell_type": "code",
   "execution_count": 3,
   "id": "38a7af1a-6fa3-4fbf-9ab6-3f5f04eb02ca",
   "metadata": {},
   "outputs": [
    {
     "data": {
      "text/plain": [
       "[1, 3, 5, 7, 9, 11, 13, 15, 17, 19, 21, 23, 25]"
      ]
     },
     "execution_count": 3,
     "metadata": {},
     "output_type": "execute_result"
    }
   ],
   "source": [
    "# def keyword is used to create a function def fun_name(argument or none)\n",
    "def odd(n):\n",
    "    a = []\n",
    "    for i in n:\n",
    "        if i%2 != 0:\n",
    "            a.append(i)\n",
    "    return a\n",
    "s = []\n",
    "for i in range(1,26):\n",
    "    s.append(i)\n",
    "odd(s)"
   ]
  },
  {
   "cell_type": "markdown",
   "id": "4b67d991-0fd3-4168-ad75-e29fd8fb478f",
   "metadata": {},
   "source": [
    "Q2. Why *args and **kwargs is used in some functions? Create a function each for *args and **kwargs\n",
    "to demonstrate their use."
   ]
  },
  {
   "cell_type": "code",
   "execution_count": 20,
   "id": "a527a1c7-0247-4b2b-ae18-9f33bbd07a24",
   "metadata": {},
   "outputs": [
    {
     "name": "stdout",
     "output_type": "stream",
     "text": [
      "2\n",
      "3\n",
      "4\n",
      "5\n",
      "name = ankit\n",
      "age = 21\n",
      "sex = male\n"
     ]
    }
   ],
   "source": [
    "# *args and **kwargs is used to make a function dynamic so that a programmer can give as many arguments a programmer wants\n",
    "# the only difference is *args return the values in the form of tuples and **kwargs return the values in the form of dictionaries\n",
    "def ss(*args):\n",
    "    for i in args:\n",
    "        print(i)\n",
    "ss(2,3,4,5)\n",
    "def aa(**kwargs):\n",
    "    for key,value in kwargs.items():\n",
    "        print(f\"{key} = {value}\")\n",
    "aa(name = \"ankit\",age = 21,sex = \"male\")\n"
   ]
  },
  {
   "cell_type": "markdown",
   "id": "31d2908e-d133-4070-987c-42f6e9103065",
   "metadata": {},
   "source": [
    "Q3. What is an iterator in python? Name the method used to initialise the iterator object and the method\n",
    "used for iteration. Use these methods to print the first five elements of the given list [2, 4, 6, 8, 10, 12, 14,16, 18, 20]."
   ]
  },
  {
   "cell_type": "code",
   "execution_count": 34,
   "id": "81ce3d82-d7d3-4495-b4c1-d2ab5f3a5333",
   "metadata": {},
   "outputs": [
    {
     "name": "stdout",
     "output_type": "stream",
     "text": [
      "2\n",
      "4\n",
      "6\n",
      "8\n",
      "10\n"
     ]
    }
   ],
   "source": [
    "# An iterator are those data  in which we can go through each element one by one\n",
    "# to make a data iterator we have to pass it in a method called iter()\n",
    "# By next() method we can perform iteration on that data\n",
    "lis = [2, 4, 6, 8, 10, 12, 14,16, 18, 20]\n",
    "s1 = iter(lis)\n",
    "for i in range(5):\n",
    "    print(next(s1))"
   ]
  },
  {
   "cell_type": "markdown",
   "id": "59c0b32b-65cf-476d-9260-4f9c0ec53159",
   "metadata": {},
   "source": [
    "Q4. What is a generator function in python? Why yield keyword is used? Give an example of a generator\n",
    "function."
   ]
  },
  {
   "cell_type": "markdown",
   "id": "6ce936db-9624-454c-b205-d6555a4d108b",
   "metadata": {},
   "source": [
    "A generator function is a fuction that helps us to preserve memory consumption instead of saving large amount of list in memory location we use a generator function that generates a data one by one"
   ]
  },
  {
   "cell_type": "code",
   "execution_count": 36,
   "id": "a2723de8-36af-4a2a-afc9-f98d82dfee00",
   "metadata": {},
   "outputs": [
    {
     "name": "stdout",
     "output_type": "stream",
     "text": [
      "1\n",
      "3\n",
      "5\n",
      "7\n",
      "9\n",
      "11\n",
      "13\n",
      "15\n",
      "17\n",
      "19\n"
     ]
    }
   ],
   "source": [
    "def odd(n):\n",
    "    for i in range(n):\n",
    "        if i%2 != 0:\n",
    "            yield i\n",
    "# odd(20) --> it gives all odd number b\n",
    "for i in odd(20):\n",
    "    print(i)"
   ]
  },
  {
   "cell_type": "markdown",
   "id": "f5cb6b11-036c-4c9c-a1fc-31007d974445",
   "metadata": {},
   "source": [
    "Q5. Create a generator function for prime numbers less than 1000. Use the next() method to print the\n",
    "first 20 prime numbers."
   ]
  },
  {
   "cell_type": "code",
   "execution_count": 41,
   "id": "e973c202-9133-420e-88b8-bc5d113e1d9c",
   "metadata": {},
   "outputs": [
    {
     "name": "stdout",
     "output_type": "stream",
     "text": [
      "2\n",
      "3\n",
      "5\n",
      "7\n",
      "11\n",
      "13\n",
      "17\n",
      "19\n",
      "23\n",
      "29\n",
      "31\n",
      "37\n",
      "41\n",
      "43\n",
      "47\n",
      "53\n",
      "59\n",
      "61\n",
      "67\n",
      "71\n"
     ]
    }
   ],
   "source": [
    "def prime(x):\n",
    "    for i in range(x+1):\n",
    "        if i == 1 or i == 0:\n",
    "            continue\n",
    "        else:\n",
    "            for j in range(2, int(i/2)+1):\n",
    "                if i % j == 0:\n",
    "                    break\n",
    "            else:\n",
    "                yield i\n",
    "s1 = iter(prime(1000))\n",
    "for i in range(20):\n",
    "    print(next(s1))"
   ]
  },
  {
   "cell_type": "markdown",
   "id": "bd4164cb-840f-4717-8b6a-9826f871429e",
   "metadata": {},
   "source": [
    "Q6. Write a python program to print the first 10 Fibonacci numbers using a while loop."
   ]
  },
  {
   "cell_type": "code",
   "execution_count": 45,
   "id": "4d93f8b4-b1e8-4b7a-858a-4210113051de",
   "metadata": {},
   "outputs": [
    {
     "name": "stdout",
     "output_type": "stream",
     "text": [
      "0\n",
      "1\n",
      "1\n",
      "2\n",
      "3\n",
      "5\n",
      "8\n",
      "13\n",
      "21\n",
      "34\n"
     ]
    }
   ],
   "source": [
    "def fib(n):\n",
    "    a = 0\n",
    "    b = 1\n",
    "    i = 0\n",
    "    if n == 0 or n == 1:\n",
    "        return 0\n",
    "    while i<n:\n",
    "        print(a)\n",
    "        a , b = b , a+b\n",
    "        i = i + 1\n",
    "fib(10)      \n",
    "        "
   ]
  },
  {
   "cell_type": "markdown",
   "id": "b1951d3f-9c45-4a74-8d22-d4cf2624bfef",
   "metadata": {},
   "source": [
    "Q7. Write a List Comprehension to iterate through the given string: ‘pwskills’.\n",
    "Expected output: ['p', 'w', 's', 'k', 'i', 'l', 'l', 's']"
   ]
  },
  {
   "cell_type": "code",
   "execution_count": 46,
   "id": "a5294f17-48b2-416d-ba61-2a17b7b265cb",
   "metadata": {},
   "outputs": [
    {
     "data": {
      "text/plain": [
       "['p', 'w', 's', 'k', 'i', 'l', 'l', 's']"
      ]
     },
     "execution_count": 46,
     "metadata": {},
     "output_type": "execute_result"
    }
   ],
   "source": [
    "string = \"pwskills\"\n",
    "def iterate(n):\n",
    "    st = []\n",
    "    for i in n:\n",
    "        st.append(i)\n",
    "    return st\n",
    "iterate(string)"
   ]
  },
  {
   "cell_type": "markdown",
   "id": "2536e088-b181-4fec-b804-5113b260d605",
   "metadata": {},
   "source": [
    "Q8. Write a python program to check whether a given number is Palindrome or not using a while loop."
   ]
  },
  {
   "cell_type": "code",
   "execution_count": 49,
   "id": "9f9d76e4-fad0-425c-a2ba-f9472013b4a8",
   "metadata": {},
   "outputs": [
    {
     "name": "stdin",
     "output_type": "stream",
     "text": [
      "insert the number:-  1001\n"
     ]
    },
    {
     "name": "stdout",
     "output_type": "stream",
     "text": [
      "1001  1001 the number is palindrome\n"
     ]
    }
   ],
   "source": [
    "N = int(input(\"insert the number:- \"))\n",
    "rev = N\n",
    "num = 0\n",
    "while rev > 0:\n",
    "    dig = rev%10\n",
    "    rev = rev//10\n",
    "    num = num*10+dig\n",
    "if N == num:\n",
    "    print(f\"{N}  {num} the number is palindrome\")\n",
    "else:\n",
    "    print(\"the number is not palindrome\")\n"
   ]
  },
  {
   "cell_type": "markdown",
   "id": "880966a2-d0e5-4173-bd1a-09bd817a5cd2",
   "metadata": {},
   "source": [
    "Q9. Write a code to print odd numbers from 1 to 100 using list comprehension."
   ]
  },
  {
   "cell_type": "code",
   "execution_count": 52,
   "id": "4bb6a66c-7d92-48ca-bf71-49b847fcf7af",
   "metadata": {},
   "outputs": [
    {
     "name": "stdout",
     "output_type": "stream",
     "text": [
      "[1, 2, 3, 4, 5, 6, 7, 8, 9, 10, 11, 12, 13, 14, 15, 16, 17, 18, 19, 20, 21, 22, 23, 24, 25, 26, 27, 28, 29, 30, 31, 32, 33, 34, 35, 36, 37, 38, 39, 40, 41, 42, 43, 44, 45, 46, 47, 48, 49, 50, 51, 52, 53, 54, 55, 56, 57, 58, 59, 60, 61, 62, 63, 64, 65, 66, 67, 68, 69, 70, 71, 72, 73, 74, 75, 76, 77, 78, 79, 80, 81, 82, 83, 84, 85, 86, 87, 88, 89, 90, 91, 92, 93, 94, 95, 96, 97, 98, 99, 100]\n"
     ]
    },
    {
     "data": {
      "text/plain": [
       "[1,\n",
       " 3,\n",
       " 5,\n",
       " 7,\n",
       " 9,\n",
       " 11,\n",
       " 13,\n",
       " 15,\n",
       " 17,\n",
       " 19,\n",
       " 21,\n",
       " 23,\n",
       " 25,\n",
       " 27,\n",
       " 29,\n",
       " 31,\n",
       " 33,\n",
       " 35,\n",
       " 37,\n",
       " 39,\n",
       " 41,\n",
       " 43,\n",
       " 45,\n",
       " 47,\n",
       " 49,\n",
       " 51,\n",
       " 53,\n",
       " 55,\n",
       " 57,\n",
       " 59,\n",
       " 61,\n",
       " 63,\n",
       " 65,\n",
       " 67,\n",
       " 69,\n",
       " 71,\n",
       " 73,\n",
       " 75,\n",
       " 77,\n",
       " 79,\n",
       " 81,\n",
       " 83,\n",
       " 85,\n",
       " 87,\n",
       " 89,\n",
       " 91,\n",
       " 93,\n",
       " 95,\n",
       " 97,\n",
       " 99]"
      ]
     },
     "execution_count": 52,
     "metadata": {},
     "output_type": "execute_result"
    }
   ],
   "source": [
    "def odd(n):\n",
    "    od = []\n",
    "    for i in n:\n",
    "        if i % 2 != 0:\n",
    "            od.append(i)\n",
    "    return od\n",
    "            \n",
    "num = []\n",
    "for i in range(1,101):\n",
    "    num.append(i)\n",
    "print(num)\n",
    "odd(num)"
   ]
  },
  {
   "cell_type": "code",
   "execution_count": null,
   "id": "71537710-b2ce-47c8-a0f7-750c4342d26e",
   "metadata": {},
   "outputs": [],
   "source": []
  }
 ],
 "metadata": {
  "kernelspec": {
   "display_name": "Python 3 (ipykernel)",
   "language": "python",
   "name": "python3"
  },
  "language_info": {
   "codemirror_mode": {
    "name": "ipython",
    "version": 3
   },
   "file_extension": ".py",
   "mimetype": "text/x-python",
   "name": "python",
   "nbconvert_exporter": "python",
   "pygments_lexer": "ipython3",
   "version": "3.10.8"
  }
 },
 "nbformat": 4,
 "nbformat_minor": 5
}
