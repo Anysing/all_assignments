{
 "cells": [
  {
   "cell_type": "markdown",
   "id": "06bea044-b36c-41b7-b441-f141d171f019",
   "metadata": {},
   "source": [
    "### Q1. What is an API? Give an example, where an API is used in real life."
   ]
  },
  {
   "cell_type": "markdown",
   "id": "d36b9c81-edb5-4739-90be-241fcf4b735a",
   "metadata": {},
   "source": [
    "##### An API stands application program interface which is an interface for two or more homogemous and hetrogenous application to do communication There are two types of API, rest and soap API.For example UPI payment is a very good example of API in real life whenever we do a transaction from Gpay or paytm we need to know the information of that person which we are paying to do so we use the API of bank let suppose SBI . Gpay checks whether a account is valid or whether he/she has a account in SBI and all those which are checking from the SBI API server."
   ]
  },
  {
   "cell_type": "markdown",
   "id": "cee948cc-c9ef-45dc-9ad7-482f94dea24b",
   "metadata": {},
   "source": [
    "### Q2. Give advantages and disadvantages of using API."
   ]
  },
  {
   "cell_type": "markdown",
   "id": "6dfa7d33-725d-47b2-80d9-cd309d0c418f",
   "metadata": {},
   "source": [
    "### Advantages:\n",
    "##### Increased Interoperability: API solutions enable different software systems to communicate with each other, regardless of their programming language or platform. This enhances the interoperability between systems, allowing for the exchange of data and functionality.\n",
    "##### Improved Efficiency: API driven infrastructures enable developers to reuse code and functionality from existing software systems, saving time and reducing the amount of code that needs to be written from scratch.\n",
    "##### Better User Experience: APIs can enable third-party developers to create applications that integrate with existing software systems, providing a better user experience and increased functionality.\n",
    "##### Increased Flexibility: APIs provide developers with greater flexibility, enabling them to choose the best programming languages and frameworks for their needs.\n",
    "##### New Revenue Streams: APIs can enable companies to create new revenue streams by providing third-party developers with access to their software systems.\n",
    "\n",
    "### Disadvantages:\n",
    "##### Security Concerns: API infrastructures can be vulnerable to security breaches, such as SQL injection attacks and cross-site scripting (XSS) attacks, making it crucial to implement security measures to protect against these threats.\n",
    "##### Complexity: APIs can be complex, requiring a significant amount of development effort to implement and maintain.\n",
    "##### Compatibility Issues: APIs can have compatibility issues between different versions of the same software system or between different systems, which can lead to errors and system failures.\n",
    "##### Dependency on Third-Party Developers: APIs rely on third-party developers to create applications that integrate with the software system. This can create dependencies that are outside of the control of the company that owns the software system.\n",
    "##### Governance and Management: APIs require proper governance and management to ensure they are being used correctly and consistently across different applications and systems."
   ]
  },
  {
   "cell_type": "markdown",
   "id": "18bddb11-3f08-436a-b546-c455918a7873",
   "metadata": {},
   "source": [
    "### Q3. What is a Web API? Differentiate between API and Web API."
   ]
  },
  {
   "cell_type": "markdown",
   "id": "f539d07c-2186-433b-8439-f3fb20956cd1",
   "metadata": {},
   "source": [
    "##### A WEB API is a subset of API. There are various ways to build a API like TCP/IP(Transfer control protocol) and http(hyper text transfer protocol). By using http protocol over a web an API is known as web api for example Gmail,Google.\n",
    "##### API:- An API, or Application Programming Interface, is a set of rules that define how applications can communicate with each other. A client makes an HTTP request to an API at an endpoint which it has access to. The API validates the request and passes the request to the destination server or program. The server sends a response back, first through the API, which then transfers it back to the client.\n",
    "##### Web API:- According to the W3C, a Web API is a software system designed to support interoperable machine-to-machine interaction over a network. It has an interface described in a machine-processable format (specifically WSDL). Other systems interact with the Web API in a manner prescribed by its description using SOAP messages, typically conveyed using HTTP with an XML serialization in conjunction with other Web-related standards."
   ]
  },
  {
   "cell_type": "markdown",
   "id": "d1ba0544-54d4-44ed-a6ba-58a828ba5d00",
   "metadata": {},
   "source": [
    "### Q4. Explain REST and SOAP Architecture. Mention shortcomings of SOAP."
   ]
  },
  {
   "cell_type": "markdown",
   "id": "6fdf3b50-12f4-45d9-a670-6db1685ca469",
   "metadata": {},
   "source": [
    "##### REST:- rest architecture is used for web based API which follows http/https protocol in which we have various methods PUT,GET,POST,DELETE.REST architecture is a ststeless architecture meand it does not stores previous transactions but it has some feature which make it possible but in soap architecture bydefault all the previous transactions is stored.REST architecture is a heavy weight architecture it cannot do heavy transaction as it is scalable and flexible.\n",
    "##### SOAP:- SOAP architecture is based on XML(Extended markup language) which uses WSDL(web service Description language) XMl internally use this language in which we write every instruction and informatiopn soap architecture also support HTTP,SMTP,TCP/IP.SOAP architecture is much complex as compare to rest architecture but security wise soap architecture is the best choice as it prevent any type of data leakage.SOAP architecture is a light weight architecture it cannot do "
   ]
  }
 ],
 "metadata": {
  "kernelspec": {
   "display_name": "Python 3 (ipykernel)",
   "language": "python",
   "name": "python3"
  },
  "language_info": {
   "codemirror_mode": {
    "name": "ipython",
    "version": 3
   },
   "file_extension": ".py",
   "mimetype": "text/x-python",
   "name": "python",
   "nbconvert_exporter": "python",
   "pygments_lexer": "ipython3",
   "version": "3.10.8"
  }
 },
 "nbformat": 4,
 "nbformat_minor": 5
}
