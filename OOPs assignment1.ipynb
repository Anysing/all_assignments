{
 "cells": [
  {
   "cell_type": "markdown",
   "id": "5f96418e-3573-41ed-a53a-8eac0d50388d",
   "metadata": {},
   "source": [
    "### Q1. Explain Class and Object with respect to Object-Oriented Programming. Give a suitable example."
   ]
  },
  {
   "cell_type": "markdown",
   "id": "c32c738a-3c74-429a-b96b-fcaea0712f43",
   "metadata": {},
   "source": [
    "##### A class is a blueprint or skeleton of real world entity. An object is an realworld entity an object is alsoknown as variable which hold data and methods"
   ]
  },
  {
   "cell_type": "code",
   "execution_count": 1,
   "id": "c6e3aab9-7c96-44a6-a4dc-dcf642182323",
   "metadata": {},
   "outputs": [],
   "source": [
    "class welcome:\n",
    "    def __init__(self,name):\n",
    "        print(f\"welcome to the class {name}\")"
   ]
  },
  {
   "cell_type": "code",
   "execution_count": 2,
   "id": "f7831e1e-6539-493b-aa1d-ae2e6ecbb983",
   "metadata": {},
   "outputs": [
    {
     "name": "stdout",
     "output_type": "stream",
     "text": [
      "welcome to the class Ankit\n"
     ]
    }
   ],
   "source": [
    "ankit = welcome(\"Ankit\")"
   ]
  },
  {
   "cell_type": "markdown",
   "id": "46d3a8a6-d5d8-4476-8df4-6a26a62b9c98",
   "metadata": {},
   "source": [
    "### Q2. Name the four pillars of OOPs."
   ]
  },
  {
   "cell_type": "markdown",
   "id": "5b0b77f0-8054-4fdd-898d-77f69333aff6",
   "metadata": {},
   "source": [
    "##### There are four pillars of OOPs:\n",
    "##### 1)Polymorphism:- An entity acts differently in different different situation or context\n",
    "##### 2)Encapsulation:- It is a technique to wrap or bind or encapsulate a data. so that a user cannot see or modify a data directly\n",
    "##### 3)Inheritance:- To follow the DRY(do not repeat yourself) principle we use inheritance so the child class can inheritant data or methods\n",
    "##### 4)Abstraction:- To build a blueprint or skeleton of a methods without giving any defination. We use abstract class"
   ]
  },
  {
   "cell_type": "markdown",
   "id": "1b621eb3-9ca6-4098-8827-7f899f9983d7",
   "metadata": {},
   "source": [
    "### Q3. Explain why the __init__() function is used. Give a suitable example."
   ]
  },
  {
   "cell_type": "markdown",
   "id": "51391078-fb81-4e19-b669-426039a02e40",
   "metadata": {},
   "source": [
    "##### An __init__() function is used as a constructor so that while declaring an object we can pass parameters directly"
   ]
  },
  {
   "cell_type": "code",
   "execution_count": 3,
   "id": "6c98fda7-9e2c-4092-b336-fb3c7edadad4",
   "metadata": {},
   "outputs": [],
   "source": [
    "class welcome:\n",
    "    def __init__(self,name):\n",
    "        print(f\"welcome to the class {name}\")"
   ]
  },
  {
   "cell_type": "code",
   "execution_count": 4,
   "id": "d9847487-ece1-47d8-a7e4-9fa4bb73ef6e",
   "metadata": {},
   "outputs": [
    {
     "name": "stdout",
     "output_type": "stream",
     "text": [
      "welcome to the class Ankit\n"
     ]
    }
   ],
   "source": [
    "ankit = welcome(\"Ankit\")"
   ]
  },
  {
   "cell_type": "markdown",
   "id": "9c2d48e2-f17d-4a63-b548-2aa59cc77921",
   "metadata": {},
   "source": [
    "### Q4. Why self is used in OOPs?"
   ]
  },
  {
   "cell_type": "markdown",
   "id": "ac1ec5ae-46c6-445e-baa6-709f2ce1f46d",
   "metadata": {},
   "source": [
    "##### While declaring an method or variable we put self with it. A self acts like a reference or pointer which points to the class, to mention that this variables or methods belong to this class"
   ]
  },
  {
   "cell_type": "code",
   "execution_count": 15,
   "id": "bc3a4543-2374-4b95-919d-a6732fbb5205",
   "metadata": {},
   "outputs": [],
   "source": [
    "class welcome:\n",
    "    def __init__(self,name):\n",
    "        print(f\"welcome to the class {name}\")\n",
    "    def age(self,age):\n",
    "        self.age = age\n",
    "        print(f\"your age is {self.age}\")"
   ]
  },
  {
   "cell_type": "code",
   "execution_count": 16,
   "id": "fa46aa2e-361f-4651-bc18-6e3d14449c4d",
   "metadata": {},
   "outputs": [
    {
     "name": "stdout",
     "output_type": "stream",
     "text": [
      "welcome to the class Ankit\n"
     ]
    }
   ],
   "source": [
    "ankit = welcome(\"Ankit\")"
   ]
  },
  {
   "cell_type": "code",
   "execution_count": 17,
   "id": "950b32eb-e2ad-43b2-a298-7910e08810fe",
   "metadata": {},
   "outputs": [
    {
     "name": "stdout",
     "output_type": "stream",
     "text": [
      "your age is 21\n"
     ]
    }
   ],
   "source": [
    "ankit.age(21)"
   ]
  },
  {
   "cell_type": "markdown",
   "id": "9a7537b9-388c-467a-ad7e-65b8fd758c8d",
   "metadata": {},
   "source": [
    "### Q5. What is inheritance? Give an example for each type of inheritance."
   ]
  },
  {
   "cell_type": "markdown",
   "id": "52366aaf-f987-4739-b164-2fb4a66e4703",
   "metadata": {},
   "source": [
    "##### Inheritance:- To follow the DRY(do not repeat yourself) principle we use inheritance so the child class can inheritant data or methods\n",
    "##### There are five types of inheritance\n",
    "##### 1.single,2.multiple,3.multilevel,4.Hierarchical,5.Hybrid"
   ]
  },
  {
   "cell_type": "code",
   "execution_count": 18,
   "id": "48d0fdd5-7064-4402-b31a-bd60cd171a31",
   "metadata": {},
   "outputs": [
    {
     "name": "stdout",
     "output_type": "stream",
     "text": [
      "This function is in parent class.\n",
      "This function is in child class.\n"
     ]
    }
   ],
   "source": [
    "# single inheritance\n",
    "class Parent:\n",
    "\tdef func1(self):\n",
    "\t\tprint(\"This function is in parent class.\")\n",
    "        \n",
    "class Child(Parent):\n",
    "\tdef func2(self):\n",
    "\t\tprint(\"This function is in child class.\")\n",
    "\n",
    "object = Child()\n",
    "object.func1()\n",
    "object.func2()"
   ]
  },
  {
   "cell_type": "code",
   "execution_count": 19,
   "id": "9ba51b63-fa28-4542-91bb-c8e0491ea5d7",
   "metadata": {},
   "outputs": [
    {
     "name": "stdout",
     "output_type": "stream",
     "text": [
      "Father : RAM\n",
      "Mother : SITA\n"
     ]
    }
   ],
   "source": [
    "# multiple inheritance\n",
    "class Mother:\n",
    "\tmothername = \"\"\n",
    "\tdef mother(self):\n",
    "\t\tprint(self.mothername)\n",
    "\n",
    "class Father:\n",
    "\tfathername = \"\"\n",
    "\tdef father(self):\n",
    "\t\tprint(self.fathername)\n",
    "\n",
    "class Son(Mother, Father):\n",
    "\tdef parents(self):\n",
    "\t\tprint(\"Father :\", self.fathername)\n",
    "\t\tprint(\"Mother :\", self.mothername)\n",
    "\n",
    "s1 = Son()\n",
    "s1.fathername = \"RAM\"\n",
    "s1.mothername = \"SITA\"\n",
    "s1.parents()"
   ]
  },
  {
   "cell_type": "code",
   "execution_count": 22,
   "id": "c117c2ea-3a67-48be-bc25-da6d23d286e8",
   "metadata": {},
   "outputs": [
    {
     "name": "stdout",
     "output_type": "stream",
     "text": [
      "Lal mani\n",
      "Grandfather name : Lal mani\n",
      "Father name : Rampal\n",
      "Son name : Prince\n"
     ]
    }
   ],
   "source": [
    "# multilevel inheritance\n",
    "class Grandfather:\n",
    "\n",
    "\tdef __init__(self, grandfathername):\n",
    "\t\tself.grandfathername = grandfathername\n",
    "\n",
    "class Father(Grandfather):\n",
    "\tdef __init__(self, fathername, grandfathername):\n",
    "\t\tself.fathername = fathername\n",
    "\t\tGrandfather.__init__(self, grandfathername)\n",
    "\n",
    "class Son(Father):\n",
    "\tdef __init__(self, sonname, fathername, grandfathername):\n",
    "\t\tself.sonname = sonname\n",
    "\t\tFather.__init__(self, fathername, grandfathername)\n",
    "\n",
    "\tdef print_name(self):\n",
    "\t\tprint('Grandfather name :', self.grandfathername)\n",
    "\t\tprint(\"Father name :\", self.fathername)\n",
    "\t\tprint(\"Son name :\", self.sonname)\n",
    "\n",
    "\n",
    "s1 = Son('Prince', 'Rampal', 'Lal mani')\n",
    "print(s1.grandfathername)\n",
    "s1.print_name()"
   ]
  },
  {
   "cell_type": "code",
   "execution_count": 23,
   "id": "0661eb48-d778-4b62-88ef-e7bab596f8f2",
   "metadata": {},
   "outputs": [
    {
     "name": "stdout",
     "output_type": "stream",
     "text": [
      "This function is in parent class.\n",
      "This function is in child 1.\n",
      "This function is in parent class.\n",
      "This function is in child 2.\n"
     ]
    }
   ],
   "source": [
    "# Hierarchical inheritance\n",
    "class Parent:\n",
    "\tdef func1(self):\n",
    "\t\tprint(\"This function is in parent class.\")\n",
    "\n",
    "class Child1(Parent):\n",
    "\tdef func2(self):\n",
    "\t\tprint(\"This function is in child 1.\")\n",
    "\n",
    "class Child2(Parent):\n",
    "\tdef func3(self):\n",
    "\t\tprint(\"This function is in child 2.\")\n",
    "\n",
    "object1 = Child1()\n",
    "object2 = Child2()\n",
    "object1.func1()\n",
    "object1.func2()\n",
    "object2.func1()\n",
    "object2.func3()"
   ]
  },
  {
   "cell_type": "code",
   "execution_count": null,
   "id": "2c6846f0-7bf9-4a32-ac84-df980470a971",
   "metadata": {},
   "outputs": [],
   "source": [
    "# Hybrid inheritance\n",
    "# Python program to demonstrate\n",
    "# hybrid inheritance\n",
    "\n",
    "\n",
    "class School:\n",
    "\tdef func1(self):\n",
    "\t\tprint(\"This function is in school.\")\n",
    "\n",
    "\n",
    "class Student1(School):\n",
    "\tdef func2(self):\n",
    "\t\tprint(\"This function is in student 1. \")\n",
    "\n",
    "\n",
    "class Student2(School):\n",
    "\tdef func3(self):\n",
    "\t\tprint(\"This function is in student 2.\")\n",
    "\n",
    "\n",
    "class Student3(Student1, School):\n",
    "\tdef func4(self):\n",
    "\t\tprint(\"This function is in student 3.\")\n",
    "\n",
    "\n",
    "# Driver's code\n",
    "object = Student3()\n",
    "object.func1()\n",
    "object.func2()\n",
    "\n"
   ]
  }
 ],
 "metadata": {
  "kernelspec": {
   "display_name": "Python 3 (ipykernel)",
   "language": "python",
   "name": "python3"
  },
  "language_info": {
   "codemirror_mode": {
    "name": "ipython",
    "version": 3
   },
   "file_extension": ".py",
   "mimetype": "text/x-python",
   "name": "python",
   "nbconvert_exporter": "python",
   "pygments_lexer": "ipython3",
   "version": "3.10.8"
  }
 },
 "nbformat": 4,
 "nbformat_minor": 5
}
