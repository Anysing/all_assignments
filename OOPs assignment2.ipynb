{
 "cells": [
  {
   "cell_type": "markdown",
   "id": "db599388-3818-4530-ae52-2fc7dd3778a6",
   "metadata": {},
   "source": [
    "### Q1. What is Abstraction in OOps? Explain with an example."
   ]
  },
  {
   "cell_type": "markdown",
   "id": "2635388f-23b2-4697-88bd-0a46d7cdd00b",
   "metadata": {},
   "source": [
    "##### It a technique to make a blueprint or skeleton of a method without giving any defination"
   ]
  },
  {
   "cell_type": "code",
   "execution_count": 4,
   "id": "4dcb4f4d-5457-4b17-97e0-fb3a1fa75fd3",
   "metadata": {},
   "outputs": [],
   "source": [
    "import abc\n",
    "class welcome:\n",
    "    @abc.abstractmethod\n",
    "    def student_details(self):\n",
    "        pass\n",
    "    @abc.abstractmethod\n",
    "    def student_assignment(self):\n",
    "        pass\n",
    "\n",
    "class student(welcome):\n",
    "    def student_details(self,name,course):\n",
    "        self.name = name\n",
    "        self.course = course\n",
    "        return self.name, self.course\n",
    "    def student_assignment(self):\n",
    "        return \"You have achieved 100/100 in OOPs assignments\""
   ]
  },
  {
   "cell_type": "code",
   "execution_count": 5,
   "id": "0b6936ba-2caa-4521-bc93-fc41a4b30168",
   "metadata": {},
   "outputs": [],
   "source": [
    "ankit = student()"
   ]
  },
  {
   "cell_type": "code",
   "execution_count": 6,
   "id": "9ca97791-8dfc-4d46-834c-6b22ab26a1f8",
   "metadata": {},
   "outputs": [
    {
     "data": {
      "text/plain": [
       "('Ankit', 'Data Science Master')"
      ]
     },
     "execution_count": 6,
     "metadata": {},
     "output_type": "execute_result"
    }
   ],
   "source": [
    "ankit.student_details(\"Ankit\",\"Data Science Master\")"
   ]
  },
  {
   "cell_type": "code",
   "execution_count": 7,
   "id": "e6f18d9b-9ca8-4fb6-afba-b4507f862686",
   "metadata": {},
   "outputs": [
    {
     "data": {
      "text/plain": [
       "'You have achieved 100/100 in OOPs assignments'"
      ]
     },
     "execution_count": 7,
     "metadata": {},
     "output_type": "execute_result"
    }
   ],
   "source": [
    "ankit.student_assignment()"
   ]
  },
  {
   "cell_type": "markdown",
   "id": "ebbdb9b3-39ec-4eb0-98b7-c5a188e476e6",
   "metadata": {},
   "source": [
    "### Q2. Differentiate between Abstraction and Encapsulation. Explain with an example."
   ]
  },
  {
   "cell_type": "markdown",
   "id": "50644846-72a3-45df-9b03-436c7c056aac",
   "metadata": {},
   "source": [
    "##### An abstraction is used to hide the unwanted information from the user, it shows us the body of an fuctionality but hides it defination and An Encapsulation is used to hide sensitive data from the user but by using some methods and criteria a user can access or modify that data"
   ]
  },
  {
   "cell_type": "code",
   "execution_count": 8,
   "id": "f7751f90-ba87-4205-8d0b-e21c0cb3da24",
   "metadata": {},
   "outputs": [],
   "source": [
    "# Abstraction\n",
    "import abc\n",
    "class welcome:\n",
    "    @abc.abstractmethod\n",
    "    def student_details(self):\n",
    "        pass\n",
    "    @abc.abstractmethod\n",
    "    def student_assignment(self):\n",
    "        pass\n",
    "\n",
    "class student(welcome):\n",
    "    def student_details(self,name,course):\n",
    "        self.name = name\n",
    "        self.course = course\n",
    "        return self.name, self.course\n",
    "    def student_assignment(self):\n",
    "        return \"You have achieved 100/100 in OOPs assignments\""
   ]
  },
  {
   "cell_type": "code",
   "execution_count": 9,
   "id": "6c42249d-3ee1-4a0b-a51d-54ef997217b0",
   "metadata": {},
   "outputs": [
    {
     "data": {
      "text/plain": [
       "('Ankit', 'Data Science Master')"
      ]
     },
     "execution_count": 9,
     "metadata": {},
     "output_type": "execute_result"
    }
   ],
   "source": [
    "ankit = student()\n",
    "ankit.student_details(\"Ankit\",\"Data Science Master\")"
   ]
  },
  {
   "cell_type": "code",
   "execution_count": 12,
   "id": "0baa548d-4fb5-4b1a-931a-0c331a32bc4f",
   "metadata": {},
   "outputs": [],
   "source": [
    "#Encapsulation\n",
    "class student_details:\n",
    "    def __init__(self,name,mobile_num,course_fee):\n",
    "        self.__name = name\n",
    "        self.__mobile_num = mobile_num\n",
    "        self.__course_fee = course_fee\n",
    "    \n",
    "    def get(self):\n",
    "        return self.__name,self.__mobile_num,self.__course_fee"
   ]
  },
  {
   "cell_type": "code",
   "execution_count": 13,
   "id": "cd3c2f23-687f-40ef-8677-18fd4b3729a6",
   "metadata": {},
   "outputs": [],
   "source": [
    "ankit = student_details(\"ankit\",9897446648,3500)"
   ]
  },
  {
   "cell_type": "code",
   "execution_count": 14,
   "id": "4c4f2ab1-61f9-4dfc-b2cb-77452b877f76",
   "metadata": {},
   "outputs": [
    {
     "ename": "AttributeError",
     "evalue": "'student_details' object has no attribute 'self'",
     "output_type": "error",
     "traceback": [
      "\u001b[0;31m---------------------------------------------------------------------------\u001b[0m",
      "\u001b[0;31mAttributeError\u001b[0m                            Traceback (most recent call last)",
      "Cell \u001b[0;32mIn[14], line 1\u001b[0m\n\u001b[0;32m----> 1\u001b[0m \u001b[43mankit\u001b[49m\u001b[38;5;241;43m.\u001b[39;49m\u001b[43mself\u001b[49m\u001b[38;5;241m.\u001b[39m__name\n",
      "\u001b[0;31mAttributeError\u001b[0m: 'student_details' object has no attribute 'self'"
     ]
    }
   ],
   "source": [
    "ankit.self.__name\n",
    "## we cannot directly access the data"
   ]
  },
  {
   "cell_type": "code",
   "execution_count": 15,
   "id": "a9cc02ad-b946-46ad-8231-18fe6d1442cc",
   "metadata": {},
   "outputs": [
    {
     "data": {
      "text/plain": [
       "('ankit', 9897446648, 3500)"
      ]
     },
     "execution_count": 15,
     "metadata": {},
     "output_type": "execute_result"
    }
   ],
   "source": [
    "ankit.get()"
   ]
  },
  {
   "cell_type": "markdown",
   "id": "8290a17c-1d49-45c2-b83b-bfe3e81612b4",
   "metadata": {},
   "source": [
    "### Q3. What is abc module in python? Why is it used?"
   ]
  },
  {
   "cell_type": "markdown",
   "id": "0ced7295-56ca-482d-89bf-a75ae855df47",
   "metadata": {},
   "source": [
    "##### Python has a module called abc (abstract base class) that offers the necessary tools for crafting an abstract base class.  An abstract class is used to hide the unwanted information from the user, it shows us the body of an fuctionality but hides it defination "
   ]
  },
  {
   "cell_type": "markdown",
   "id": "3f34453f-fd93-4188-a531-943c077c022d",
   "metadata": {},
   "source": [
    "### Q4. How can we achieve data abstraction?"
   ]
  },
  {
   "cell_type": "markdown",
   "id": "d36abbf7-28e1-4bae-b3b5-984cbbb38f75",
   "metadata": {},
   "source": [
    "##### Data Abstraction in Python is the process of hiding the real implementation of an application from the user and emphasizing only on usage of it."
   ]
  },
  {
   "cell_type": "code",
   "execution_count": 32,
   "id": "3753129b-4248-4f85-939b-7cfe3142e32b",
   "metadata": {},
   "outputs": [],
   "source": [
    "import abc\n",
    " \n",
    "class Animal:\n",
    " \n",
    "    #concrete method\n",
    "    def sleep(self):\n",
    "        print(\"I am going to sleep in a while\")\n",
    " \n",
    "    @abc.abstractmethod\n",
    "    def sound(self):\n",
    "\t    print(\"This function is for defining the sound by any animal\")\n",
    "class Snake(Animal):\n",
    "    def sound(self):\n",
    "        print(\"I can hiss\")\n",
    "class Dog(Animal):\n",
    "    def sound(self):\n",
    "        print(\"I can bark\")\n",
    "class Lion(Animal):\n",
    "    def sound(self):\n",
    "        print(\"I can roar\")\n",
    "class Cat(Animal):\n",
    "    def sound(self):\n",
    "        print(\"I can meow\")"
   ]
  },
  {
   "cell_type": "code",
   "execution_count": 33,
   "id": "6a8e8d5e-f5e0-4765-84ad-2d1d6bf7059f",
   "metadata": {},
   "outputs": [
    {
     "name": "stdout",
     "output_type": "stream",
     "text": [
      "I am going to sleep in a while\n",
      "I can meow\n",
      "I can hiss\n"
     ]
    }
   ],
   "source": [
    "c = Cat()\n",
    "c.sleep()\n",
    "c.sound()\n",
    " \n",
    "c = Snake()\n",
    "c.sound()"
   ]
  },
  {
   "cell_type": "markdown",
   "id": "cfcbb8eb-b6a1-4856-8344-a5990cd09e03",
   "metadata": {},
   "source": [
    "### Q5. Can we create an instance of an abstract class? Explain your answer."
   ]
  },
  {
   "cell_type": "markdown",
   "id": "5a83ff5b-1339-4b69-a831-881dfeb010a2",
   "metadata": {},
   "source": [
    "##### Abstract classes are not complete, as they may have some methods that are not defined. We can create an object but it will not show any result because the methods are not defined"
   ]
  },
  {
   "cell_type": "code",
   "execution_count": 27,
   "id": "003ad69f-9dd3-4a31-8d2c-0151c3c9087d",
   "metadata": {},
   "outputs": [],
   "source": [
    "import abc\n",
    "class welcome:\n",
    "    @abc.abstractmethod\n",
    "    def student_details(self):\n",
    "        pass\n",
    "    @abc.abstractmethod\n",
    "    def student_assignment(self):\n",
    "        pass"
   ]
  },
  {
   "cell_type": "code",
   "execution_count": 28,
   "id": "8a6a7fa9-c759-42ef-88de-0d4b35e8e74c",
   "metadata": {},
   "outputs": [],
   "source": [
    "ankit = welcome()\n",
    "ankit.student_details()"
   ]
  },
  {
   "cell_type": "code",
   "execution_count": 29,
   "id": "4e8e8339-75d0-4310-b261-7e00d2866c74",
   "metadata": {},
   "outputs": [],
   "source": [
    "ankit.student_assignment()"
   ]
  }
 ],
 "metadata": {
  "kernelspec": {
   "display_name": "Python 3 (ipykernel)",
   "language": "python",
   "name": "python3"
  },
  "language_info": {
   "codemirror_mode": {
    "name": "ipython",
    "version": 3
   },
   "file_extension": ".py",
   "mimetype": "text/x-python",
   "name": "python",
   "nbconvert_exporter": "python",
   "pygments_lexer": "ipython3",
   "version": "3.10.8"
  }
 },
 "nbformat": 4,
 "nbformat_minor": 5
}
